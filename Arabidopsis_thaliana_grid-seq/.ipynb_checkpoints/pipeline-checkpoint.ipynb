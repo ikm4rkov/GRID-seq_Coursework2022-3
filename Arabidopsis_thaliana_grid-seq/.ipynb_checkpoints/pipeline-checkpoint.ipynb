{
 "cells": [
  {
   "cell_type": "markdown",
   "id": "d90e9ad1-23f7-4ff4-83cb-f0a231111e21",
   "metadata": {},
   "source": [
    "A pipline to transform raw read data in FASTQ format to clean contact data.\n",
    "Requires FastUniq, Trimmomatic, Hisat2, SAMTools, BedTools."
   ]
  },
  {
   "cell_type": "markdown",
   "id": "d4da357e-abbf-4088-8622-ae77f9fd588a",
   "metadata": {},
   "source": [
    "Defining paths and variables"
   ]
  },
  {
   "cell_type": "code",
   "execution_count": 24,
   "id": "b5186eba-2054-433c-af3e-6ab705368ef5",
   "metadata": {},
   "outputs": [],
   "source": [
    "FastUniqPath=\"\"\n",
    "TrimmomaticPath=\"\"\n",
    "Hisat2Path=\"\"\n",
    "SamtoolsPath=\"\"\n",
    "BedtoolsPath=\"\"\n",
    "SRR1=\"\"\n",
    "SRR2=\"\"\n",
    "GenomePath=\"\"\n",
    "GenomeName=\"\"\n",
    "SpliceSitePath=\"\"\n",
    "ContactsOutput=\"1\"\n",
    "CIGARIntersectionOutput=\"\"\n",
    "Hisat2ThreadNumber=\n",
    "export PATH=$PATH:$BedtoolsPath"
   ]
  },
  {
   "cell_type": "markdown",
   "id": "22bcb2b9-560f-47e8-8462-5f630903beca",
   "metadata": {},
   "source": [
    "Checking file existences"
   ]
  },
  {
   "cell_type": "code",
   "execution_count": 4,
   "id": "0d3c72da-8844-4d69-890a-4f4ee5c039ff",
   "metadata": {},
   "outputs": [
    {
     "name": "stdout",
     "output_type": "stream",
     "text": [
      "Wrong FastUniq path\n",
      "exit\n",
      "Restarting Bash\n"
     ]
    }
   ],
   "source": [
    "if [ ! -x \"$FastUniqPath\" ]; then echo \"Wrong FastUniq path\"; exit 1; fi\n",
    "if [ ! -x \"$TrimmomaticPath\" ]; then echo \"Wrong Trimmomatic path\"; exit 1; fi\n",
    "if [ ! -d \"$Hisat2Path\" ]; then echo \"Wrong Hisat2 path\"; exit 1; fi\n",
    "if [ ! -x \"$SamtoolsPath\" ]; then echo \"Wrong Samtools path\"; exit 1; fi\n",
    "if [ ! -d \"$BedtoolsPath\" ]; then echo \"Wrong Bedtools path\"; exit 1; fi\n",
    "if [ ! -e \"${SRR1}\".fastq ] || [ ! -e \"${SRR2}\".fastq ]; then echo \"Wrong data path\"; exit 1; fi\n",
    "if [ ! -e \"$GenomePath\" ]; then echo \"Wrong genome path\"; exit 1; fi"
   ]
  },
  {
   "cell_type": "markdown",
   "id": "76154b3c-c4b4-4f4c-b11b-5b5948634ab3",
   "metadata": {},
   "source": [
    "Using the Arabidopsis genome (TAIR10.1) we index it for further mapping"
   ]
  },
  {
   "cell_type": "code",
   "execution_count": 3,
   "id": "26a4d19e-018c-4bb2-8094-b8690548f29f",
   "metadata": {},
   "outputs": [
    {
     "name": "stdout",
     "output_type": "stream",
     "text": [
      "  % Total    % Received % Xferd  Average Speed   Time    Time     Time  Current\n",
      "                                 Dload  Upload   Total   Spent    Left  Speed\n",
      "100 35.7M  100 35.7M    0     0  1765k      0  0:00:20  0:00:20 --:--:-- 2304k\n"
     ]
    }
   ],
   "source": [
    "curl -L https://ftp.ncbi.nlm.nih.gov/genomes/all/GCF/000/001/735/GCF_000001735.4_TAIR10.1/GCF_000001735.4_TAIR10.1_genomic.fna.gz -O"
   ]
  },
  {
   "cell_type": "code",
   "execution_count": 5,
   "id": "3ed01a50-ed67-4103-ae63-e071d7a2f435",
   "metadata": {},
   "outputs": [],
   "source": [
    "gzip -dk GCF_000001735.4_TAIR10.1_genomic.fna.gz"
   ]
  },
  {
   "cell_type": "code",
   "execution_count": 30,
   "id": "03d28208-76ff-43a7-9134-960c7a93b677",
   "metadata": {},
   "outputs": [
    {
     "name": "stdout",
     "output_type": "stream",
     "text": [
      "Settings:\n",
      "  Output files: \"TAIR10.1.*.ht2\"\n",
      "  Line rate: 6 (line is 64 bytes)\n",
      "  Lines per side: 1 (side is 64 bytes)\n",
      "  Offset rate: 4 (one in 16)\n",
      "  FTable chars: 10\n",
      "  Strings: unpacked\n",
      "  Local offset rate: 3 (one in 8)\n",
      "  Local fTable chars: 6\n",
      "  Local sequence length: 57344\n",
      "  Local sequence overlap between two consecutive indexes: 1024\n",
      "  Endianness: little\n",
      "  Actual local endianness: little\n",
      "  Sanity checking: disabled\n",
      "  Assertions: disabled\n",
      "  Random seed: 0\n",
      "  Sizeofs: void*:8, int:4, long:8, size_t:8\n",
      "Input files DNA, FASTA:\n",
      "  /home/vanya/slowdisk/arabidopsis/temp/GRID-seq-main/GRID-seq/Identification/data/Final_raw_data/GCF_000001735.4_TAIR10.1_genomic.fna\n",
      "Reading reference sizes\n",
      "  Time reading reference sizes: 00:00:02\n",
      "Calculating joined length\n",
      "Writing header\n",
      "Reserving space for joined string\n",
      "Joining reference sequences\n",
      "  Time to join reference sequences: 00:00:01\n",
      "  Time to read SNPs and splice sites: 00:00:00\n",
      "Using parameters --bmax 746765 --dcv 1024\n",
      "  Doing ahead-of-time memory usage test\n",
      "  Passed!  Constructing with these parameters: --bmax 746765 --dcv 1024\n",
      "Constructing suffix-array element generator\n",
      "Converting suffix-array elements to index image\n",
      "Allocating ftab, absorbFtab\n",
      "Entering GFM loop\n",
      "Exited GFM loop\n",
      "fchr[A]: 0\n",
      "fchr[C]: 38223268\n",
      "fchr[G]: 59774576\n",
      "fchr[T]: 81303836\n",
      "fchr[$]: 119482427\n",
      "Exiting GFM::buildToDisk()\n",
      "Returning from initFromVector\n",
      "Wrote 44026804 bytes to primary GFM file: TAIR10.1.1.ht2\n",
      "Wrote 29870612 bytes to secondary GFM file: TAIR10.1.2.ht2\n",
      "Re-opening _in1 and _in2 as input streams\n",
      "Returning from GFM constructor\n",
      "Returning from initFromVector\n",
      "Wrote 52471411 bytes to primary GFM file: TAIR10.1.5.ht2\n",
      "Wrote 30416712 bytes to secondary GFM file: TAIR10.1.6.ht2\n",
      "Re-opening _in5 and _in5 as input streams\n",
      "Returning from HGFM constructor\n",
      "Headers:\n",
      "    len: 119482427\n",
      "    gbwtLen: 119482428\n",
      "    nodes: 119482428\n",
      "    sz: 29870607\n",
      "    gbwtSz: 29870608\n",
      "    lineRate: 6\n",
      "    offRate: 4\n",
      "    offMask: 0xfffffff0\n",
      "    ftabChars: 10\n",
      "    eftabLen: 0\n",
      "    eftabSz: 0\n",
      "    ftabLen: 1048577\n",
      "    ftabSz: 4194308\n",
      "    offsLen: 7467652\n",
      "    offsSz: 29870608\n",
      "    lineSz: 64\n",
      "    sideSz: 64\n",
      "    sideGbwtSz: 48\n",
      "    sideGbwtLen: 192\n",
      "    numSides: 622305\n",
      "    numLines: 622305\n",
      "    gbwtTotLen: 39827520\n",
      "    gbwtTotSz: 39827520\n",
      "    reverse: 0\n",
      "    linearFM: Yes\n",
      "Total time for call to driver() for forward index: 00:00:46\n"
     ]
    }
   ],
   "source": [
    "${Hisat2Path}hisat2-build -p$Hisat2ThreadNumber $GenomePath $GenomeName > /dev/null"
   ]
  },
  {
   "cell_type": "markdown",
   "id": "9b44156f-3e0b-44c9-b69d-f1e27c845f2e",
   "metadata": {},
   "source": [
    "Downloading GTF file to determine splicing sites"
   ]
  },
  {
   "cell_type": "code",
   "execution_count": 16,
   "id": "dd24774c-2090-4ce2-815a-ca35517ef482",
   "metadata": {},
   "outputs": [
    {
     "name": "stdout",
     "output_type": "stream",
     "text": [
      "  % Total    % Received % Xferd  Average Speed   Time    Time     Time  Current\n",
      "                                 Dload  Upload   Total   Spent    Left  Speed\n",
      "100 9842k  100 9842k    0     0  1971k      0  0:00:04  0:00:04 --:--:-- 2298k\n"
     ]
    }
   ],
   "source": [
    "curl -L ftp://ftp.ensemblgenomes.org/pub/release-37/plants/gtf/arabidopsis_thaliana/Arabidopsis_thaliana.TAIR10.37.gtf.gz -O"
   ]
  },
  {
   "cell_type": "code",
   "execution_count": 18,
   "id": "e8b901f4-a5c9-4a5a-b78a-4073094e1f16",
   "metadata": {},
   "outputs": [],
   "source": [
    "gzip -dk Arabidopsis_thaliana.TAIR10.37.gtf.gz"
   ]
  },
  {
   "cell_type": "markdown",
   "id": "182ad384-682d-48b4-8674-a444bd881169",
   "metadata": {},
   "source": [
    "Creating splicing sites markdown"
   ]
  },
  {
   "cell_type": "code",
   "execution_count": 19,
   "id": "a4717b7a-2041-475b-bb79-b5136f320e2d",
   "metadata": {},
   "outputs": [],
   "source": [
    "python3 ${Hisat2Path}hisat2_extract_splice_sites.py Arabidopsis_thaliana.TAIR10.37.gtf > splicesites.txt"
   ]
  },
  {
   "cell_type": "markdown",
   "id": "93f62156-a0ce-43e5-bf10-29b63335278a",
   "metadata": {},
   "source": [
    "Mapping to the reference genome (TAIR10.1) using Hisat2 (DNA part)"
   ]
  },
  {
   "cell_type": "code",
   "execution_count": 196,
   "id": "1ddcc1f9-1fd2-4d0b-a39c-b7f31b9072f8",
   "metadata": {},
   "outputs": [
    {
     "name": "stdout",
     "output_type": "stream",
     "text": [
      "20689053 reads; of these:\n",
      "  20689053 (100.00%) were unpaired; of these:\n",
      "    8579978 (41.47%) aligned 0 times\n",
      "    9996324 (48.32%) aligned exactly 1 time\n",
      "    2112751 (10.21%) aligned >1 times\n",
      "58.53% overall alignment rate\n"
     ]
    }
   ],
   "source": [
    "${Hisat2Path}hisat2 -f -p$Hisat2ThreadNumber -x$GenomeName -k 100 \\\n",
    "--no-spliced-alignment --no-softclip \\\n",
    "-U ${SRR1}.fa | $SamtoolsPath view -bSh > ${SRR1}.bam "
   ]
  },
  {
   "cell_type": "markdown",
   "id": "1a1e48dd-0723-4dd7-a5f0-1f17a8b0839d",
   "metadata": {},
   "source": [
    "Mapping to the reference genome (Sus11.1) using Hisat2 (RNA part)"
   ]
  },
  {
   "cell_type": "code",
   "execution_count": 197,
   "id": "3ae965f5-c86a-4bc7-9b6b-db033b148ec2",
   "metadata": {},
   "outputs": [
    {
     "name": "stdout",
     "output_type": "stream",
     "text": [
      "20689053 reads; of these:\n",
      "  20689053 (100.00%) were unpaired; of these:\n",
      "    3335621 (16.12%) aligned 0 times\n",
      "    4427202 (21.40%) aligned exactly 1 time\n",
      "    12926230 (62.48%) aligned >1 times\n",
      "83.88% overall alignment rate\n"
     ]
    }
   ],
   "source": [
    "${Hisat2Path}hisat2 -f -p$Hisat2ThreadNumber -x$GenomeName -k 100 --no-softclip --dta-cufflinks \\\n",
    "--known-splicesite-infile $SpliceSitePath \\\n",
    "--novel-splicesite-outfile ${SRR2}_novel_splice -U ${SRR2}.fa | $SamtoolsPath view -bSh > ${SRR2}.bam"
   ]
  },
  {
   "cell_type": "markdown",
   "id": "52ec7fb1-f5ac-4b31-bd64-01fce61dac9a",
   "metadata": {},
   "source": [
    "Getting number of reads mapped"
   ]
  },
  {
   "cell_type": "code",
   "execution_count": 9,
   "id": "d4062e73-41ff-464f-a610-714b3a94d15a",
   "metadata": {},
   "outputs": [
    {
     "name": "stdout",
     "output_type": "stream",
     "text": [
      "10337216\n"
     ]
    }
   ],
   "source": [
    "$SamtoolsPath view -c -F 260 ${SRR1}.bam"
   ]
  },
  {
   "cell_type": "code",
   "execution_count": 10,
   "id": "cebf9beb-4049-4cd6-84d1-5c1a184f5c3f",
   "metadata": {},
   "outputs": [
    {
     "name": "stdout",
     "output_type": "stream",
     "text": [
      "16233380\n"
     ]
    }
   ],
   "source": [
    "$SamtoolsPath view -c -F 260 ${SRR2}.bam"
   ]
  },
  {
   "cell_type": "markdown",
   "id": "e0bbe974-9aee-4748-8b2a-e4e465c592b6",
   "metadata": {},
   "source": [
    "Applying filter to reads. Only unique mappings with at most 2 mismatches remain"
   ]
  },
  {
   "cell_type": "code",
   "execution_count": 200,
   "id": "c8e6084d-3f9d-4697-8cdb-4b71010acda0",
   "metadata": {},
   "outputs": [],
   "source": [
    "$SamtoolsPath view -Sh -F 4 ${SRR1}.bam | grep -E 'XM:i:[0-2]\\s.*NH:i:1$|^@' | \\\n",
    "    $SamtoolsPath view -Sbh > ${SRR1}_filtered.bam"
   ]
  },
  {
   "cell_type": "code",
   "execution_count": 201,
   "id": "17b2d55a-0dce-4183-8dc5-186731b24294",
   "metadata": {},
   "outputs": [],
   "source": [
    "$SamtoolsPath view -Sh -F 4 ${SRR2}.bam | grep -E 'XM:i:[0-2]\\s.*NH:i:1$|^@' | \\\n",
    "    $SamtoolsPath view -Sbh > ${SRR2}_filtered.bam"
   ]
  },
  {
   "cell_type": "markdown",
   "id": "bcf15c2d-384b-4df2-a85d-0a66dcb84de7",
   "metadata": {},
   "source": [
    "Counting filtered reads"
   ]
  },
  {
   "cell_type": "code",
   "execution_count": 11,
   "id": "7e42a841-9279-436d-b061-ecf551ba5631",
   "metadata": {},
   "outputs": [
    {
     "name": "stdout",
     "output_type": "stream",
     "text": [
      "8315552\n"
     ]
    }
   ],
   "source": [
    "$SamtoolsPath view -c -F 260 ${SRR1}_filtered.bam"
   ]
  },
  {
   "cell_type": "code",
   "execution_count": 12,
   "id": "771337ba-8ff7-4779-9693-1abebb673a0d",
   "metadata": {},
   "outputs": [
    {
     "name": "stdout",
     "output_type": "stream",
     "text": [
      "3111955\n"
     ]
    }
   ],
   "source": [
    "$SamtoolsPath view -c -F 260 ${SRR2}_filtered.bam"
   ]
  },
  {
   "cell_type": "markdown",
   "id": "fe52ad34-248d-4244-8362-0b1f2693ecf8",
   "metadata": {},
   "source": [
    "Converting to BED format"
   ]
  },
  {
   "cell_type": "code",
   "execution_count": 204,
   "id": "2bb861f3-bf6c-4bd9-ab00-481e3fd0ac13",
   "metadata": {},
   "outputs": [],
   "source": [
    "$SamtoolsPath view -Sh -F 4 ${SRR1}_filtered.bam | $SamtoolsPath view -Sbh | $BedtoolsPath/bamToBed -cigar -i > ${SRR1}.bed"
   ]
  },
  {
   "cell_type": "code",
   "execution_count": 205,
   "id": "e57b5f47-24e6-42fd-a278-f75fb0f4255f",
   "metadata": {},
   "outputs": [],
   "source": [
    "$SamtoolsPath view -Sh -F 4 ${SRR2}_filtered.bam | $SamtoolsPath view -Sbh | $BedtoolsPath/bamToBed -cigar -i > ${SRR2}.bed"
   ]
  },
  {
   "cell_type": "markdown",
   "id": "2799302d-4b45-49dd-9aab-3aebc34a543a",
   "metadata": {},
   "source": [
    "Intersecting BED files and forming contacts"
   ]
  },
  {
   "cell_type": "code",
   "execution_count": 207,
   "id": "790cccde-f7c1-4831-8846-0d69e2a0f889",
   "metadata": {},
   "outputs": [
    {
     "name": "stdout",
     "output_type": "stream",
     "text": [
      "import pandas as pd\n",
      "from sys import argv\n",
      "\n",
      "dna = pd.read_csv(argv[1], sep = \"\\t\", header = None)\n",
      "rna = pd.read_csv(argv[2], sep = \"\\t\", header = None)\n",
      "dna.set_index([3], inplace=True)\n",
      "rna.set_index([3], inplace=True)\n",
      "ids = list(set(dna.index) & set(rna.index))                  \n",
      "dna = dna.loc[ids,]\n",
      "rna = rna.loc[ids,]\n",
      "res = pd.DataFrame(index=range(len(ids)),\\\n",
      "columns=['id', 'rna_chr', 'rna_bgn', 'rna_end', 'rna_strand', 'rna_cigar',\\\n",
      "'dna_chr', 'dna_bgn', 'dna_end', 'dna_strand', 'dna_cigar'])\n",
      "for i, item in enumerate(ids):\n",
      "    res.at[i,'id'] = item\n",
      "    res.at[i,'rna_chr'] = rna.at[item,0]\n",
      "    res.at[i,'rna_bgn'] = rna.at[item,1]\n",
      "    res.at[i,'rna_end'] = rna.at[item,2]\n",
      "    res.at[i,'rna_strand'] = rna.at[item,5]\n",
      "    res.at[i,'rna_cigar'] = rna.at[item,6]\n",
      "    res.at[i,'dna_chr'] = dna.at[item,0]\n",
      "    res.at[i,'dna_bgn'] = dna.at[item,1]\n",
      "    res.at[i,'dna_end'] = dna.at[item,2]\n",
      "    res.at[i,'dna_strand'] = dna.at[item,5]\n",
      "    res.at[i,'dna_cigar'] = dna.at[item,6]\n",
      "res.to_csv(argv[3], sep='\\t', index=False, header=True)\n"
     ]
    }
   ],
   "source": [
    "cat cnt_intersect.py"
   ]
  },
  {
   "cell_type": "code",
   "execution_count": 208,
   "id": "6acb30cd-0f63-4a70-9735-73cfd401a155",
   "metadata": {},
   "outputs": [],
   "source": [
    "python3 cnt_intersect.py ${SRR1}.bed ${SRR2}.bed $ContactsOutput"
   ]
  },
  {
   "cell_type": "markdown",
   "id": "e51f29df-7847-4543-ab4c-9de58972f020",
   "metadata": {},
   "source": [
    "Counting contacts"
   ]
  },
  {
   "cell_type": "code",
   "execution_count": 25,
   "id": "9af6b9ac-1228-49cd-9bcf-2745c6b8076c",
   "metadata": {},
   "outputs": [
    {
     "name": "stdout",
     "output_type": "stream",
     "text": [
      "1709099 1rep_cnt.tsv\n"
     ]
    }
   ],
   "source": [
    "wc -l $ContactsOutput"
   ]
  },
  {
   "cell_type": "markdown",
   "id": "2d79c82a-d904-4c93-93f8-36f1fb2e06e6",
   "metadata": {},
   "source": [
    "CIGAR filtering: reads with a complete match ('digitsM' flag) are left intact, reads with only one mismatch ('digitsMdigitsNdigitsM' type) are cut to their longest match and other reads are dropped"
   ]
  },
  {
   "cell_type": "code",
   "execution_count": 213,
   "id": "ab2bb72d-ed21-44d6-b852-d9f051ce929c",
   "metadata": {},
   "outputs": [
    {
     "name": "stdout",
     "output_type": "stream",
     "text": [
      "import re\n",
      "from sys import argv\n",
      "\n",
      "\n",
      "f = open(argv[1], 'r')\n",
      "f1 = open(argv[2], 'w')\n",
      "linecnt = 0\n",
      "\n",
      "c1 = re.compile('\\d+M')\n",
      "c2 = re.compile('(\\d+)M(\\d+)N(\\d+)M')\n",
      "cnt1 = 0\n",
      "cnt2 = 0\n",
      "\n",
      "while True:\n",
      "    linecnt += 1\n",
      "    line = f.readline().strip()\n",
      "    if not line:\n",
      "        break\n",
      "    llist = line.split()\n",
      "    tline = llist[6]\n",
      "    \n",
      "    if len(c1.findall(tline)) == 1:\n",
      "        cnt1 += 1\n",
      "        print(line, file=f1)\n",
      "    elif len(c1.findall(tline)) == 2:        \n",
      "        l2 = c2.findall(tline)\n",
      "        if len(l2)>0:\n",
      "            cnt2 += 1\n",
      "            if int(l2[0][0]) > int(l2[0][2]):\n",
      "                tmp = int(llist[1]) + int(l2[0][0])\n",
      "                llist[2] = str(tmp)\n",
      "                print('\\t'.join(llist), file=f1)\n",
      "            else:\n",
      "                tmp = int(llist[2]) - int(l2[0][2])\n",
      "                llist[1] = str(tmp)\n",
      "                print('\\t'.join(llist), file=f1)\n",
      "f.close()\n",
      "print(f'full match {cnt1}')\n",
      "print(f'central gap {cnt2}')\n",
      "\n"
     ]
    }
   ],
   "source": [
    "cat cigar_filter.py"
   ]
  },
  {
   "cell_type": "code",
   "execution_count": 214,
   "id": "58e8b10c-8c7e-4442-a12e-90ec59fd6222",
   "metadata": {},
   "outputs": [
    {
     "name": "stdout",
     "output_type": "stream",
     "text": [
      "full match 4417114\n",
      "central gap 10071\n"
     ]
    }
   ],
   "source": [
    "python3 cigar_filter.py ${SRR2}.bed ${SRR2}_filtered.bed"
   ]
  },
  {
   "cell_type": "code",
   "execution_count": 218,
   "id": "4a93a43d-0d0d-4a5e-8f65-4f6358434bbf",
   "metadata": {},
   "outputs": [],
   "source": [
    "python3 cnt_intersect.py ${SRR1}.bed ${SRR2}_filtered.bed $CIGARIntersectionOutput"
   ]
  },
  {
   "cell_type": "markdown",
   "id": "a6894d44-369f-493e-8464-5862cedb8f0e",
   "metadata": {},
   "source": [
    "Counting contacts"
   ]
  },
  {
   "cell_type": "code",
   "execution_count": 15,
   "id": "577216b9-85a0-4482-a3d6-49790190c5e2",
   "metadata": {},
   "outputs": [
    {
     "name": "stdout",
     "output_type": "stream",
     "text": [
      "1709083 1rep_cigar_out.tsv\n"
     ]
    }
   ],
   "source": [
    "wc -l $CIGARIntersectionOutput"
   ]
  },
  {
   "cell_type": "markdown",
   "id": "3ddee6ab-d524-45e5-be12-475c5f7050c1",
   "metadata": {},
   "source": [
    "Merging replicas into one"
   ]
  },
  {
   "cell_type": "code",
   "execution_count": 223,
   "id": "76747818-30d0-4985-85db-88f366f50c89",
   "metadata": {},
   "outputs": [],
   "source": [
    "cat *cigar*tsv| grep -v rna_bgn > merged_before_rna1.tsv"
   ]
  },
  {
   "cell_type": "code",
   "execution_count": 16,
   "id": "f727eaf8-7a34-4809-b35f-820189943328",
   "metadata": {},
   "outputs": [
    {
     "name": "stdout",
     "output_type": "stream",
     "text": [
      "9300643 merged_before_rna1.tsv\n"
     ]
    }
   ],
   "source": [
    "wc -l merged_before_rna1.tsv"
   ]
  },
  {
   "cell_type": "markdown",
   "id": "4f716497-cc0c-47bd-b16c-43025aa8bed1",
   "metadata": {},
   "source": [
    "Changing chromosome names from RefSeq IDs to usual"
   ]
  },
  {
   "cell_type": "code",
   "execution_count": 228,
   "id": "3b583727-e75a-4a7b-a0e1-be7795e3ea89",
   "metadata": {},
   "outputs": [],
   "source": [
    "sed -i -e 's/NC_003070.9/chr1/g' -e 's/NC_003071.7/chr2/g' -e 's/NC_003074.8/chr3/g' -e 's/NC_003075.7/chr4/g' -e 's/NC_003076.8/chr5/g' -e 's/NC_037304.1/MT/g' -e 's/NC_000932.1/Pltd/g' merged_before_rna1.tsv"
   ]
  },
  {
   "cell_type": "markdown",
   "id": "b6b7b71b-1be9-4044-9430-300e85a1a5c5",
   "metadata": {},
   "source": [
    "A script to transform GTF file into genes markdown"
   ]
  },
  {
   "cell_type": "code",
   "execution_count": 156,
   "id": "e0a032ae-aec4-402d-810b-5bfcdabb8f1d",
   "metadata": {},
   "outputs": [
    {
     "name": "stdout",
     "output_type": "stream",
     "text": [
      "from sys import argv\n",
      "\n",
      "\n",
      "f = open(argv[1], 'r')\n",
      "f1 = open(argv[2], 'w+')\n",
      "linecnt = 0\n",
      "\n",
      "while True:\n",
      "    linecnt += 1  \n",
      "    line = f.readline()\n",
      "    if not line:\n",
      "        break\n",
      "    llist = line.split()\n",
      "    \n",
      "    try:\n",
      "        if llist[2] == 'gene':\n",
      "            print(f'chr{llist[0]}\\t{llist[3]}\\t{llist[4]}\\t{llist[6]}\\t{llist[15][1:-2]}\\t{llist[11][1:-2]}\\t{int(llist[4])-int(llist[3])}', file=f1)\n",
      "    except:\n",
      "        continue\n",
      "f.close()\n",
      "f1.close()\n"
     ]
    }
   ],
   "source": [
    "cat genes_tidy.py"
   ]
  },
  {
   "cell_type": "markdown",
   "id": "b46b70c5-d4dc-4b64-9754-31e42fcb5ba7",
   "metadata": {},
   "source": [
    "Transforming:"
   ]
  },
  {
   "cell_type": "code",
   "execution_count": 157,
   "id": "de84a136-d622-41c4-9601-6ddbdcd4e24d",
   "metadata": {},
   "outputs": [],
   "source": [
    "python3 genes_tidy.py Arabidopsis_thaliana.TAIR10.37.gtf genes1.tsv"
   ]
  },
  {
   "cell_type": "markdown",
   "id": "deb15111-d13d-4644-b82d-6aa522872e23",
   "metadata": {},
   "source": [
    "RNA type distribution among the genes:"
   ]
  },
  {
   "cell_type": "code",
   "execution_count": 161,
   "id": "439b6ef1-f64d-4eaf-bf10-61451b38c15f",
   "metadata": {},
   "outputs": [
    {
     "name": "stdout",
     "output_type": "stream",
     "text": [
      "      1 antisense_RNA\n",
      "      1 araport11\n",
      "     24 ene_bioty\n",
      "    176 miRNA\n",
      "     15 nontranslating_CDS\n",
      "      9 otherRNA\n",
      "     39 pre_miRNA\n",
      "  12861 protein_coding\n",
      "      2 RNase_MRP_RNA\n",
      "    526 rRNA\n",
      "     27 sense_intronic\n",
      "    146 snoRNA\n",
      "     84 snRNA\n",
      "     10 SRP_RNA\n",
      "    403 tRNA\n"
     ]
    }
   ],
   "source": [
    "cat genes1.tsv | awk '{print $5}' | sort | uniq -c"
   ]
  },
  {
   "cell_type": "markdown",
   "id": "e38b31a5-1116-45da-ab50-6ec7ee740b12",
   "metadata": {},
   "source": [
    "A script to annotate RNA-parts of contacts"
   ]
  },
  {
   "cell_type": "code",
   "execution_count": 17,
   "id": "6bfab0cf-c88f-416d-93c7-734d4aa2c7c1",
   "metadata": {},
   "outputs": [
    {
     "name": "stdout",
     "output_type": "stream",
     "text": [
      "# Creating temporary files\n",
      "t1=$(mktemp)\n",
      "t2=$(mktemp)\n",
      "\n",
      "# Contacts and genes paths\n",
      "ContactsFile='merged_before_rna1.tsv'\n",
      "GenesFile='genes1.tsv'\n",
      "\n",
      "# Intersection of contacts and genes, strands are stored in corresponding files; didn't find bedtools on HPC-2 so provided thast files\n",
      "bedtools intersect -a <(cat $ContactsFile| awk '{print $2, $3, $4}'  OFS='\\t') -b <(cat $GenesFile) -wb > intersected_genes.tsv\n",
      "bedtools intersect -a <(cat $ContactsFile| awk '{print $2, $3, $4, $5, $1}'  OFS='\\t') -b <(cat $GenesFile) -wa > intersected_contacts.tsv\n",
      "\n",
      "# Counting how many contacts intersected certain gene = gene score\n",
      "cat intersected_genes.tsv | awk '{print $9}' | sort | uniq -c > gene_score.csv\n",
      "\n",
      "# Adding score column to the intersection from the genes perspective\n",
      "join -1 9 -2 2 -o1.1,1.2,1.3,1.7,1.8,1.9,1.10,2.1 <(sort -k 9,9 intersected_genes.tsv) gene_score.csv > intersected_scored_genes.csv\n",
      "\n",
      "# Dividing by gene length\n",
      "cat intersected_scored_genes.csv | awk '{print $1,$2,$3,$4,$5,$6,$7,$8,$8/$7}' > intersected_scored_genes_divided.csv\n",
      "\n",
      "# Joining intersections based on chr-begin-end-strand concatenated column\n",
      "join -j1 -o1.2,1.3,1.4,1.5,1.6,1.7,1.10,2.6 <(<intersected_scored_genes_divided.csv awk '{print $1\"-\"$2\"-\"$3\"-\"$4\" \"$0}' | sort -k1,1 | uniq) <(<intersected_contacts.tsv awk '{print $1\"-\"$2\"-\"$3\"-\"$4\" \"$0}' | sort -k1,1 | uniq) > joined_annotation.csv\n",
      "\n",
      "# Voting for the most contacted gene: sorting by contact id then by gene score and filttering all annotations but the one with the highest score\n",
      "sort -k8,8 -k7nr,7 joined_annotation.csv | uniq -f7 > unique_annotation.csv\n",
      "\n",
      "# Adding leading zeroes; can be avoided by sorting stringwise, not numberwise\n",
      "# cat unique_annotation.csv | awk  '{ a=sprintf(\"%09d\",$8); print a, $0}' OFS='\\t' > unique_annotation2.csv\n",
      "# cat $ContactsFile | awk  '{ $1=sprintf(\"%09d\",$1); print $0}' OFS='\\t' | sort -k1n,1 > ${ContactsFile}2\n",
      "\n",
      "# Assigning annotation to the initial contacts\n",
      "cat unique_annotation.csv > $t1\n",
      "cat $ContactsFile | sort -k1,1 > $t2\n",
      "join -1 8 -2 1  -o2.2,2.3,2.4,2.5,2.6,2.7,2.8,2.9,2.10,2.11,1.5,1.6,1.7,1.8 $t1 $t2 > annotated_contacts.csv\n",
      "\n",
      "# Deleting temporary files\n",
      "rm -f $t1 $t2\n"
     ]
    }
   ],
   "source": [
    "cat annotation.sh"
   ]
  },
  {
   "cell_type": "code",
   "execution_count": 18,
   "id": "af15995e-e50c-4e0d-987b-509c16107a38",
   "metadata": {},
   "outputs": [
    {
     "name": "stdout",
     "output_type": "stream",
     "text": [
      "***** WARNING: File /dev/fd/63 has inconsistent naming convention for record:\n",
      "MT\t143842\t143859\n",
      "\n",
      "***** WARNING: File /dev/fd/63 has inconsistent naming convention for record:\n",
      "MT\t143842\t143859\n",
      "\n",
      "***** WARNING: File /dev/fd/63 has inconsistent naming convention for record:\n",
      "MT\t143842\t143859\t-\t8388644\n",
      "\n",
      "***** WARNING: File /dev/fd/63 has inconsistent naming convention for record:\n",
      "MT\t143842\t143859\t-\t8388644\n",
      "\n"
     ]
    }
   ],
   "source": [
    "./annotation.sh"
   ]
  },
  {
   "cell_type": "markdown",
   "id": "c6179a1f-adbd-44b5-96da-48dd1a28a19c",
   "metadata": {},
   "source": [
    "Counting contacts"
   ]
  },
  {
   "cell_type": "code",
   "execution_count": 19,
   "id": "40995e1a-fe97-4031-a2dc-24bb15bc0d4e",
   "metadata": {},
   "outputs": [
    {
     "name": "stdout",
     "output_type": "stream",
     "text": [
      "5161255 annotated_contacts.csv\n"
     ]
    }
   ],
   "source": [
    "wc -l annotated_contacts.csv"
   ]
  },
  {
   "cell_type": "markdown",
   "id": "fa4e1467-4cc2-42a5-827e-3db006a3e5d6",
   "metadata": {},
   "source": [
    "RNA distribution after RNA-annotation"
   ]
  },
  {
   "cell_type": "code",
   "execution_count": 20,
   "id": "9b1215f5-597b-42fc-b19e-ef460b9c5170",
   "metadata": {},
   "outputs": [
    {
     "name": "stdout",
     "output_type": "stream",
     "text": [
      "      1 araport11\n",
      "     17 ene_bioty\n",
      "     73 miRNA\n",
      "     13 nontranslating_CDS\n",
      "      7 otherRNA\n",
      "      7 pre_miRNA\n",
      "  11494 protein_coding\n",
      "      1 RNase_MRP_RNA\n",
      "      2 rRNA\n",
      "     56 snoRNA\n",
      "     16 snRNA\n",
      "      1 SRP_RNA\n",
      "      9 tRNA\n"
     ]
    }
   ],
   "source": [
    "cat annotated_contacts.csv | sort -k12,12 |  awk '{print $11,$12}' | uniq -f1 | awk '{print $1}' | sort | uniq -c"
   ]
  },
  {
   "cell_type": "markdown",
   "id": "7a0fb708-be7c-4373-b9da-be2d6c87e92f",
   "metadata": {},
   "source": [
    "Getting RNAs with the most contacts"
   ]
  },
  {
   "cell_type": "code",
   "execution_count": 21,
   "id": "318d8be6-2578-417a-ae5a-3787a340ff45",
   "metadata": {},
   "outputs": [],
   "source": [
    "cat annotated_contacts.csv | sort -k12,12 |  awk '{print $11,$12}' | uniq -c  > rna_cnt_number1.csv"
   ]
  },
  {
   "cell_type": "code",
   "execution_count": 22,
   "id": "882dd3bd-1f66-4035-9251-8e63d85460df",
   "metadata": {},
   "outputs": [
    {
     "name": "stdout",
     "output_type": "stream",
     "text": [
      " 171868 rRNA SSU_rRNA_eukarya\n",
      " 107699 snRNA U2\n",
      "  80503 snRNA U2.4\n",
      "  27585 snRNA U2.7\n",
      "  14212 protein_coding RCA\n",
      "  13516 protein_coding BXL1\n",
      "  13387 protein_coding TSS\n",
      "  13076 protein_coding LHCA4\n",
      "  11481 SRP_RNA Plant_SRP\n",
      "  11304 protein_coding ABCG36\n",
      "sort: write failed: 'standard output': Broken pipe\n",
      "sort: write error\n"
     ]
    }
   ],
   "source": [
    "cat rna_cnt_number1.csv | sort -k1nr,1n | head -n10 "
   ]
  },
  {
   "cell_type": "markdown",
   "id": "2206c677-8450-475a-a3af-b18f70c30136",
   "metadata": {},
   "source": [
    "Contacts distribtion after RNA-annotation"
   ]
  },
  {
   "cell_type": "code",
   "execution_count": 23,
   "id": "9eb94eb4-c87a-48ac-a862-9c7b4ffe1075",
   "metadata": {},
   "outputs": [
    {
     "name": "stdout",
     "output_type": "stream",
     "text": [
      "    590 araport11\n",
      "   9997 ene_bioty\n",
      "   3603 miRNA\n",
      "   2834 nontranslating_CDS\n",
      "   7743 otherRNA\n",
      "    328 pre_miRNA\n",
      "4660208 protein_coding\n",
      "    690 RNase_MRP_RNA\n",
      " 172026 rRNA\n",
      "  44589 snoRNA\n",
      " 247028 snRNA\n",
      "  11481 SRP_RNA\n",
      "    138 tRNA\n"
     ]
    }
   ],
   "source": [
    "cat annotated_contacts.csv  | awk '{print $11}' | sort | uniq -c"
   ]
  },
  {
   "cell_type": "markdown",
   "id": "c7925129-e3bb-4ce3-aa8b-b55a6de75125",
   "metadata": {},
   "source": [
    "Atempting to prepare data to normalization"
   ]
  },
  {
   "cell_type": "code",
   "execution_count": 290,
   "id": "b971f2be-6e74-4e5d-bb7b-ae5802a8aacf",
   "metadata": {},
   "outputs": [
    {
     "name": "stdout",
     "output_type": "stream",
     "text": [
      "chr6 71971138 71971157 + 19M chr13 124590001 124590020 - 19M snRNA U5 19686 100002016\n",
      "chr14 40286509 40286528 - 19M chr6 100028477 100028496 + 19M snRNA U4 8808 100004528\n",
      "chr1 236380016 236380035 - 19M chr18 11678219 11678239 + 20M ribozyme RNase_MRP 1300 100031442\n",
      "chr14 40286508 40286527 - 19M chr11 13656391 13656410 - 19M snRNA U4 8808 100036647\n",
      "chr1 163335027 163335046 + 19M chr14 48515712 48515731 - 19M snRNA U5 19686 100043587\n",
      "chr14 40286550 40286569 - 19M chr13 199193288 199193307 - 19M snRNA U4 8808 100059528\n",
      "chr14 40286550 40286569 - 19M chr6 54532506 54532526 + 20M snRNA U4 8808 100070833\n",
      "chr14 40286550 40286569 - 19M chr6 54532506 54532526 + 20M snRNA U4 8808 100070833\n",
      "chr6 54567220 54567239 + 19M chr18 16638200 16638219 + 19M snoRNA SNORD33 1228 100084671\n",
      "chr6 71971138 71971157 + 19M chr1 118912052 118912071 + 19M snRNA U5 19686 100087314\n"
     ]
    }
   ],
   "source": [
    "head npcrna.csv"
   ]
  },
  {
   "cell_type": "code",
   "execution_count": 310,
   "id": "2ae38c05-6b2b-4381-b870-631d5861e97d",
   "metadata": {},
   "outputs": [],
   "source": [
    "cat pcrna.csv | awk '{print $12}' | sort | uniq -c | sort -k1nr,1 | tail -n+51 | head -n -1000 > fpcrna"
   ]
  },
  {
   "cell_type": "code",
   "execution_count": 311,
   "id": "cd6dfc70-2ad9-4adb-944e-3cb8e88bc11c",
   "metadata": {},
   "outputs": [
    {
     "name": "stdout",
     "output_type": "stream",
     "text": [
      "13911 fpcrna\n"
     ]
    }
   ],
   "source": [
    "wc -l fpcrna"
   ]
  },
  {
   "cell_type": "code",
   "execution_count": 314,
   "id": "7e3f75ba-a838-4887-a542-ca0f30aa3642",
   "metadata": {},
   "outputs": [],
   "source": [
    "join -1 12 -2 2 <(cat contacts_rna_annotated1.csv | sort -k12,12) <(cat fpcrna | sort -k2,2) > fpcrna_contacts.csv"
   ]
  },
  {
   "cell_type": "code",
   "execution_count": 315,
   "id": "89090557-2052-436e-8dd5-10c1b727d3ff",
   "metadata": {},
   "outputs": [
    {
     "name": "stdout",
     "output_type": "stream",
     "text": [
      "A1CF chr14 98909017 98909036 + 19M chr14 98908799 98908818 - 19M protein_coding 54 245788663 54\n",
      "A1CF chr14 98910836 98910855 - 19M chr14 98910543 98910562 - 19M protein_coding 54 146253771 54\n",
      "A1CF chr14 98911368 98911387 + 19M chr16 73406426 73406445 + 19M protein_coding 54 232813212 54\n",
      "A1CF chr14 98911368 98911387 + 19M chr16 73406426 73406445 + 19M protein_coding 54 232813212 54\n",
      "A1CF chr14 98913970 98913990 + 20M chr14 98914095 98914115 + 20M protein_coding 54 145406469 54\n",
      "A1CF chr14 98913970 98913990 + 20M chr14 98914095 98914115 + 20M protein_coding 54 145406469 54\n",
      "A1CF chr14 98919267 98919286 - 19M chr14 49314303 49314323 + 20M protein_coding 54 95062353 54\n",
      "A1CF chr14 98919352 98919371 - 19M chr14 99673719 99673738 + 19M protein_coding 54 161146852 54\n",
      "A1CF chr14 98920675 98920694 - 19M chr14 98920575 98920595 - 20M protein_coding 54 144115271 54\n",
      "A1CF chr14 98929193 98929212 + 19M chr14 98929419 98929439 + 20M protein_coding 54 8849515 54\n"
     ]
    }
   ],
   "source": [
    "head fpcrna_contacts.csv"
   ]
  },
  {
   "cell_type": "code",
   "execution_count": 321,
   "id": "5ba9b601-33fd-4ec6-b024-c7d8e62bfe1f",
   "metadata": {},
   "outputs": [],
   "source": [
    "cat fpcrna_contacts.csv | awk '{print $2,$3,$4,$5,$6,$7,$8,$9,$10,$11,$12,$1,$13,$14,$15}' OFS='\\t' > fpcrna_contacts1.csv"
   ]
  },
  {
   "cell_type": "code",
   "execution_count": 322,
   "id": "5c6aaa8a-790c-47fd-966b-2edda7a201fe",
   "metadata": {},
   "outputs": [
    {
     "name": "stdout",
     "output_type": "stream",
     "text": [
      "chr14\t98909017\t98909036\t+\t19M\tchr14\t98908799\t98908818\t-\t19M\tprotein_coding\tA1CF\t54\t245788663\t54\n",
      "chr14\t98910836\t98910855\t-\t19M\tchr14\t98910543\t98910562\t-\t19M\tprotein_coding\tA1CF\t54\t146253771\t54\n",
      "chr14\t98911368\t98911387\t+\t19M\tchr16\t73406426\t73406445\t+\t19M\tprotein_coding\tA1CF\t54\t232813212\t54\n",
      "chr14\t98911368\t98911387\t+\t19M\tchr16\t73406426\t73406445\t+\t19M\tprotein_coding\tA1CF\t54\t232813212\t54\n",
      "chr14\t98913970\t98913990\t+\t20M\tchr14\t98914095\t98914115\t+\t20M\tprotein_coding\tA1CF\t54\t145406469\t54\n",
      "chr14\t98913970\t98913990\t+\t20M\tchr14\t98914095\t98914115\t+\t20M\tprotein_coding\tA1CF\t54\t145406469\t54\n",
      "chr14\t98919267\t98919286\t-\t19M\tchr14\t49314303\t49314323\t+\t20M\tprotein_coding\tA1CF\t54\t95062353\t54\n",
      "chr14\t98919352\t98919371\t-\t19M\tchr14\t99673719\t99673738\t+\t19M\tprotein_coding\tA1CF\t54\t161146852\t54\n",
      "chr14\t98920675\t98920694\t-\t19M\tchr14\t98920575\t98920595\t-\t20M\tprotein_coding\tA1CF\t54\t144115271\t54\n",
      "chr14\t98929193\t98929212\t+\t19M\tchr14\t98929419\t98929439\t+\t20M\tprotein_coding\tA1CF\t54\t8849515\t54\n"
     ]
    }
   ],
   "source": [
    "head fpcrna_contacts1.csv"
   ]
  },
  {
   "cell_type": "code",
   "execution_count": 318,
   "id": "e6ce2a9d-1e53-454f-823a-0d1b4a4b62a3",
   "metadata": {},
   "outputs": [
    {
     "name": "stdout",
     "output_type": "stream",
     "text": [
      "chr6 71971138 71971157 + 19M chr13 124590001 124590020 - 19M snRNA U5 19686 100002016\n",
      "chr14 40286509 40286528 - 19M chr6 100028477 100028496 + 19M snRNA U4 8808 100004528\n",
      "chr1 236380016 236380035 - 19M chr18 11678219 11678239 + 20M ribozyme RNase_MRP 1300 100031442\n",
      "chr14 40286508 40286527 - 19M chr11 13656391 13656410 - 19M snRNA U4 8808 100036647\n",
      "chr1 163335027 163335046 + 19M chr14 48515712 48515731 - 19M snRNA U5 19686 100043587\n",
      "chr14 40286550 40286569 - 19M chr13 199193288 199193307 - 19M snRNA U4 8808 100059528\n",
      "chr14 40286550 40286569 - 19M chr6 54532506 54532526 + 20M snRNA U4 8808 100070833\n",
      "chr14 40286550 40286569 - 19M chr6 54532506 54532526 + 20M snRNA U4 8808 100070833\n",
      "chr6 54567220 54567239 + 19M chr18 16638200 16638219 + 19M snoRNA SNORD33 1228 100084671\n",
      "chr6 71971138 71971157 + 19M chr1 118912052 118912071 + 19M snRNA U5 19686 100087314\n"
     ]
    }
   ],
   "source": [
    "head npcrna.csv"
   ]
  },
  {
   "cell_type": "code",
   "execution_count": 319,
   "id": "24521b36-a70a-4848-b084-9b2fb6e218ca",
   "metadata": {},
   "outputs": [],
   "source": [
    "cat npcrna.csv | awk '{print $1,$2,$3,$4,$5,$6,$7,$8,$9,$10,$11,$12,$13,$14}' OFS='\\t' > npcrna1.tsv"
   ]
  },
  {
   "cell_type": "code",
   "execution_count": 320,
   "id": "b16b4fed-3e17-49fa-8822-6564304d87bf",
   "metadata": {},
   "outputs": [
    {
     "name": "stdout",
     "output_type": "stream",
     "text": [
      "chr6\t71971138\t71971157\t+\t19M\tchr13\t124590001\t124590020\t-\t19M\tsnRNA\tU5\t19686\t100002016\n",
      "chr14\t40286509\t40286528\t-\t19M\tchr6\t100028477\t100028496\t+\t19M\tsnRNA\tU4\t8808\t100004528\n",
      "chr1\t236380016\t236380035\t-\t19M\tchr18\t11678219\t11678239\t+\t20M\tribozyme\tRNase_MRP\t1300\t100031442\n",
      "chr14\t40286508\t40286527\t-\t19M\tchr11\t13656391\t13656410\t-\t19M\tsnRNA\tU4\t8808\t100036647\n",
      "chr1\t163335027\t163335046\t+\t19M\tchr14\t48515712\t48515731\t-\t19M\tsnRNA\tU5\t19686\t100043587\n",
      "chr14\t40286550\t40286569\t-\t19M\tchr13\t199193288\t199193307\t-\t19M\tsnRNA\tU4\t8808\t100059528\n",
      "chr14\t40286550\t40286569\t-\t19M\tchr6\t54532506\t54532526\t+\t20M\tsnRNA\tU4\t8808\t100070833\n",
      "chr14\t40286550\t40286569\t-\t19M\tchr6\t54532506\t54532526\t+\t20M\tsnRNA\tU4\t8808\t100070833\n",
      "chr6\t54567220\t54567239\t+\t19M\tchr18\t16638200\t16638219\t+\t19M\tsnoRNA\tSNORD33\t1228\t100084671\n",
      "chr6\t71971138\t71971157\t+\t19M\tchr1\t118912052\t118912071\t+\t19M\tsnRNA\tU5\t19686\t100087314\n"
     ]
    }
   ],
   "source": [
    "head npcrna1.tsv"
   ]
  },
  {
   "cell_type": "code",
   "execution_count": 323,
   "id": "c21ce5d5-34e2-47e4-bf78-94e24dc114c7",
   "metadata": {},
   "outputs": [],
   "source": [
    "cat fpcrna_contacts1.csv npcrna1.tsv > filtered_mrna_contacts.tsv"
   ]
  }
 ],
 "metadata": {
  "kernelspec": {
   "display_name": "Bash",
   "language": "bash",
   "name": "bash"
  },
  "language_info": {
   "codemirror_mode": "shell",
   "file_extension": ".sh",
   "mimetype": "text/x-sh",
   "name": "bash"
  }
 },
 "nbformat": 4,
 "nbformat_minor": 5
}
