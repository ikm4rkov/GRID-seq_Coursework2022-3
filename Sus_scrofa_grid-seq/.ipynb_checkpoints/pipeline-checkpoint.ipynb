{
 "cells": [
  {
   "cell_type": "markdown",
   "id": "d90e9ad1-23f7-4ff4-83cb-f0a231111e21",
   "metadata": {},
   "source": [
    "A pipline to transform raw read data in FASTQ format to clean contact data.\n",
    "Requires FastUniq, Trimmomatic, Hisat2, SAMTools, BedTools."
   ]
  },
  {
   "cell_type": "markdown",
   "id": "d4da357e-abbf-4088-8622-ae77f9fd588a",
   "metadata": {},
   "source": [
    "Defining paths and variables"
   ]
  },
  {
   "cell_type": "code",
   "execution_count": 19,
   "id": "b5186eba-2054-433c-af3e-6ab705368ef5",
   "metadata": {},
   "outputs": [],
   "source": [
    "FastUniqPath=\"\"\n",
    "TrimmomaticPath=\"\"\n",
    "Hisat2Path=\"\"\n",
    "SamtoolsPath=\"\"\n",
    "BedtoolsPath=\"\"\n",
    "SRR1=\"\"\n",
    "SRR2=\"\"\n",
    "GenomePath=\"\"\n",
    "GenomeName=\"\"\n",
    "SpliceSitePath=\"\"\n",
    "ContactsOutput=\"\"\n",
    "CIGARIntersectionOutput=\"\"\n",
    "Hisat2ThreadNumber=\n",
    "export PATH=$PATH:$BedtoolsPath"
   ]
  },
  {
   "cell_type": "markdown",
   "id": "22bcb2b9-560f-47e8-8462-5f630903beca",
   "metadata": {},
   "source": [
    "Checking file existences"
   ]
  },
  {
   "cell_type": "code",
   "execution_count": 2,
   "id": "0d3c72da-8844-4d69-890a-4f4ee5c039ff",
   "metadata": {},
   "outputs": [],
   "source": [
    "if [ ! -x \"$FastUniqPath\" ]; then echo \"Wrong FastUniq path\"; exit 1; fi\n",
    "if [ ! -x \"$TrimmomaticPath\" ]; then echo \"Wrong Trimmomatic path\"; exit 1; fi\n",
    "if [ ! -d \"$Hisat2Path\" ]; then echo \"Wrong Hisat2 path\"; exit 1; fi\n",
    "if [ ! -x \"$SamtoolsPath\" ]; then echo \"Wrong Samtools path\"; exit 1; fi\n",
    "if [ ! -d \"$BedtoolsPath\" ]; then echo \"Wrong Bedtools path\"; exit 1; fi\n",
    "if [ ! -e \"${SRR1}\".fastq ] || [ ! -e \"${SRR2}\".fastq ]; then echo \"Wrong data path\"; exit 1; fi\n",
    "if [ ! -e \"$GenomePath\" ]; then echo \"Wrong genome path\"; exit 1; fi"
   ]
  },
  {
   "cell_type": "markdown",
   "id": "02b95b19-a1f9-4402-9321-f1d84f787ab3",
   "metadata": {},
   "source": [
    "The generously provided data (https://www.ncbi.nlm.nih.gov/geo/query/acc.cgi?acc=GSM6071448) have been linked to a batch script file which processes reads from Illumina converting to FASTQ format, removing linkers, transcripting RNA reads and filtering read length in interval [18, 23] base pairs. The link is https://github.com/ezioljj/scripts_for_GRID-seq. However, the data is likely to contain PCR duplicates, so for our pipeline diagram (https://rnachrom2.bioinf.fbb.msu.ru/protocol) it is considered as raw reads without linkers."
   ]
  },
  {
   "cell_type": "markdown",
   "id": "4783bd6e-d627-4c73-a9ba-2793febd78de",
   "metadata": {},
   "source": [
    "Now preparing a temporary file for FastUniq"
   ]
  },
  {
   "cell_type": "code",
   "execution_count": 34,
   "id": "c9975d86-f827-4552-8bf5-59ed5a16401b",
   "metadata": {},
   "outputs": [],
   "source": [
    "echo -e \"$(echo $SRR1).fastq\\n$(echo $SRR2).fastq\" > list.txt"
   ]
  },
  {
   "cell_type": "code",
   "execution_count": 35,
   "id": "ee627911-8e76-454b-b84e-078f7ef4706c",
   "metadata": {},
   "outputs": [
    {
     "name": "stdout",
     "output_type": "stream",
     "text": [
      "SRR18961962.fastq\n",
      "SRR18961963.fastq\n"
     ]
    }
   ],
   "source": [
    "head list.txt"
   ]
  },
  {
   "cell_type": "markdown",
   "id": "2ec89508-4d04-40ab-82db-b0821c9c5e7c",
   "metadata": {},
   "source": [
    "Launching FastUniq to remove PCR duplicates"
   ]
  },
  {
   "cell_type": "code",
   "execution_count": 36,
   "id": "9eaaab50-f790-491e-ab8c-a0b929b92a33",
   "metadata": {},
   "outputs": [],
   "source": [
    "$FastUniqPath -i list.txt -o ${SRR1}_ND.fastq -p  ${SRR2}_ND.fastq "
   ]
  },
  {
   "cell_type": "markdown",
   "id": "a059327c-09a6-4fa5-a29a-3cdf5830babc",
   "metadata": {},
   "source": [
    "Every read in FASTQ format contains a line starting with \"@\", but in some cases reads with low quality can have 2 lines, let's pretend number of reads is approximately equals the number of lines starting with symbol \"@\"."
   ]
  },
  {
   "cell_type": "code",
   "execution_count": 23,
   "id": "f981a640-b4fd-4fc7-8532-1bb1ddd53c75",
   "metadata": {},
   "outputs": [
    {
     "name": "stdout",
     "output_type": "stream",
     "text": [
      "@SRR18961961.183215630 183215630/1\n",
      "CACGCACCGCACGTTCGT\n",
      "+\n",
      "AAFFFJJJJJJJJFFFJF\n",
      "@SRR18961961.96647001 96647001/1\n",
      "GTGTCCCCTAAACCAAAGT\n",
      "+\n",
      "AAAFFFJJFFJJJJJJJJF\n"
     ]
    }
   ],
   "source": [
    "head -n8 ${SRR2}_ND.fastq"
   ]
  },
  {
   "cell_type": "code",
   "execution_count": 38,
   "id": "5df06282-a313-40c6-9acd-86c93e4cc95a",
   "metadata": {},
   "outputs": [
    {
     "name": "stdout",
     "output_type": "stream",
     "text": [
      "349796877\n"
     ]
    }
   ],
   "source": [
    "cat ${SRR1}.fastq | grep '^@' | wc -l"
   ]
  },
  {
   "cell_type": "code",
   "execution_count": 39,
   "id": "24070bf8-5d69-4ac4-ac05-e4235555f8c9",
   "metadata": {},
   "outputs": [
    {
     "name": "stdout",
     "output_type": "stream",
     "text": [
      "349796877\n"
     ]
    }
   ],
   "source": [
    "cat ${SRR2}.fastq | grep '^@' | wc -l"
   ]
  },
  {
   "cell_type": "code",
   "execution_count": 40,
   "id": "f900da9c-25c5-4921-8fb9-701f4fb0db4e",
   "metadata": {},
   "outputs": [
    {
     "name": "stdout",
     "output_type": "stream",
     "text": [
      "235786010\n"
     ]
    }
   ],
   "source": [
    "cat ${SRR1}_ND.fastq | grep '^@' | wc -l"
   ]
  },
  {
   "cell_type": "code",
   "execution_count": 41,
   "id": "613df611-e3bd-491e-a886-70669145fe90",
   "metadata": {},
   "outputs": [
    {
     "name": "stdout",
     "output_type": "stream",
     "text": [
      "235786010\n"
     ]
    }
   ],
   "source": [
    "cat ${SRR2}_ND.fastq | grep '^@' | wc -l"
   ]
  },
  {
   "cell_type": "markdown",
   "id": "9fa63d53-e1c2-4d42-8f79-69334f860dc2",
   "metadata": {},
   "source": [
    "Addition of restriction sites is performed according to the main restriction enzyme site, which is 5'-AG'CT-3' for AluI. Reads with AG in 3' remain and CT string is added to the end, while quality is copied from the AG base pairs, other reads are withdrawn. However, we found our that there is an extra A at the 3' end, so we removed it.\n",
    "\n",
    "Code for the addition is presented below:"
   ]
  },
  {
   "cell_type": "code",
   "execution_count": 57,
   "id": "735a6fd2-93c7-4fce-a6b8-8eec28d59f70",
   "metadata": {},
   "outputs": [
    {
     "name": "stdout",
     "output_type": "stream",
     "text": [
      "from sys import argv\n",
      "\n",
      "def prt(m):\n",
      "    if len(m) == 0 or m[1][-4:-1] != 'AGA':\n",
      "        return\n",
      "    print(m[0][:-1])\n",
      "    print(m[1][:-2] + 'CT')\n",
      "    if m[2][0] == '+':\n",
      "        print('+')\n",
      "        print(m[3][:-2] + m[3][-4:-2])\n",
      "    else:\n",
      "        print(m[2][:-2] + m[2][-4:-2])\n",
      "\n",
      "f = open(argv[1], 'r')\n",
      "m = []\n",
      "\n",
      "for line in f:\n",
      "    if line[0] == '@':\n",
      "        if len(m) > 0:\n",
      "            prt(m)\n",
      "        m = []       \n",
      "    m.append(line)\n",
      "prt(m)\n",
      "\n",
      "f.close()\n",
      "\n"
     ]
    }
   ],
   "source": [
    "cat rest_site.py"
   ]
  },
  {
   "cell_type": "code",
   "execution_count": 60,
   "id": "fa0a3846-b161-432b-b014-c656cdec1783",
   "metadata": {},
   "outputs": [],
   "source": [
    "python3 rest_site.py ${SRR1}_ND.fastq > ${SRR1}_ND_RS.fastq"
   ]
  },
  {
   "cell_type": "code",
   "execution_count": 20,
   "id": "fb5a919d-25cf-4c9b-90b9-ff102b536b64",
   "metadata": {},
   "outputs": [
    {
     "name": "stdout",
     "output_type": "stream",
     "text": [
      "65986562\n"
     ]
    }
   ],
   "source": [
    "cat ${SRR1}_ND_RS.fastq | grep '^@' | wc -l"
   ]
  },
  {
   "cell_type": "markdown",
   "id": "aa6f6fa0-d879-4838-8677-3aaaaaf9441f",
   "metadata": {},
   "source": [
    "Reads then are filtered to have length at least 14 base pairs and, window size 5 and quality 26 by Trimmomatic"
   ]
  },
  {
   "cell_type": "code",
   "execution_count": 65,
   "id": "86eb270a-ee2a-4a81-baf5-60053a7c7206",
   "metadata": {},
   "outputs": [
    {
     "name": "stdout",
     "output_type": "stream",
     "text": [
      "TrimmomaticPE: Started with arguments:\n",
      " -phred33 show/SRR18961959_ND.fastq show/SRR18961958_ND_RS.fastq show/SRR18961959_ND_trimmed.fastq show/SRR18961959_ND_unpaired.fastq show/SRR18961958_ND_RS_trimmed.fastq show/SRR18961958_ND_RS_unpaired.fastq SLIDINGWINDOW:5:26 MINLEN:14\n",
      "Input Read Pairs: 62827643 Both Surviving: 59486181 (94.68%) Forward Only Surviving: 1236703 (1.97%) Reverse Only Surviving: 2061891 (3.28%) Dropped: 42868 (0.07%)\n",
      "TrimmomaticPE: Completed successfully\n"
     ]
    }
   ],
   "source": [
    "WindowSize=5\n",
    "Quality=26\n",
    "MinLen=14\n",
    "\n",
    "java -jar $TrimmomaticPath PE -phred33 ${SRR2}_ND.fastq ${SRR1}_ND_RS.fastq  ${SRR2}_ND_trimmed.fastq \\\n",
    "    ${SRR2}_ND_unpaired.fastq ${SRR1}_ND_RS_trimmed.fastq ${SRR1}_ND_RS_unpaired.fastq  \\\n",
    "    SLIDINGWINDOW:$WindowSize:$Quality MINLEN:$MinLen\n"
   ]
  },
  {
   "cell_type": "markdown",
   "id": "76154b3c-c4b4-4f4c-b11b-5b5948634ab3",
   "metadata": {},
   "source": [
    "Using the swine genome (Sus11.1) we index it for further mapping"
   ]
  },
  {
   "cell_type": "code",
   "execution_count": null,
   "id": "03d28208-76ff-43a7-9134-960c7a93b677",
   "metadata": {},
   "outputs": [],
   "source": [
    "${Hisat2Path}hisat2-build -p$Hisat2ThreadNumber $GenomePath $GenomeName > /dev/null"
   ]
  },
  {
   "cell_type": "markdown",
   "id": "9b44156f-3e0b-44c9-b69d-f1e27c845f2e",
   "metadata": {},
   "source": [
    "Downloading GTF file to determine splicing sites"
   ]
  },
  {
   "cell_type": "code",
   "execution_count": 37,
   "id": "dd24774c-2090-4ce2-815a-ca35517ef482",
   "metadata": {},
   "outputs": [
    {
     "name": "stdout",
     "output_type": "stream",
     "text": [
      "  % Total    % Received % Xferd  Average Speed   Time    Time     Time  Current\n",
      "                                 Dload  Upload   Total   Spent    Left  Speed\n",
      "100 17.7M  100 17.7M    0     0   893k      0  0:00:20  0:00:20 --:--:--  899k\n"
     ]
    }
   ],
   "source": [
    "curl -L https://ftp.ensembl.org/pub/release-108/gtf/sus_scrofa/Sus_scrofa.Sscrofa11.1.108.gtf.gz -O"
   ]
  },
  {
   "cell_type": "code",
   "execution_count": 38,
   "id": "92901c1f-5102-4d15-8746-efd5c8da5e1d",
   "metadata": {},
   "outputs": [],
   "source": [
    "gzip -d Sus_scrofa.Sscrofa11.1.108.gtf.gz"
   ]
  },
  {
   "cell_type": "markdown",
   "id": "182ad384-682d-48b4-8674-a444bd881169",
   "metadata": {},
   "source": [
    "Creating splicing sites markdown"
   ]
  },
  {
   "cell_type": "code",
   "execution_count": 41,
   "id": "a4717b7a-2041-475b-bb79-b5136f320e2d",
   "metadata": {},
   "outputs": [],
   "source": [
    "python3 ${Hisat2Path}hisat2_extract_splice_sites.py Sus_scrofa.Sscrofa11.1.108.gtf > splicesites.txt"
   ]
  },
  {
   "cell_type": "markdown",
   "id": "93f62156-a0ce-43e5-bf10-29b63335278a",
   "metadata": {},
   "source": [
    "Mapping to the reference genome (Sus11.1) using Hisat2 (DNA part)"
   ]
  },
  {
   "cell_type": "code",
   "execution_count": 66,
   "id": "1ddcc1f9-1fd2-4d0b-a39c-b7f31b9072f8",
   "metadata": {},
   "outputs": [
    {
     "name": "stdout",
     "output_type": "stream",
     "text": [
      "59486181 reads; of these:\n",
      "  59486181 (100.00%) were unpaired; of these:\n",
      "    10343195 (17.39%) aligned 0 times\n",
      "    37854974 (63.64%) aligned exactly 1 time\n",
      "    11288012 (18.98%) aligned >1 times\n",
      "82.61% overall alignment rate\n"
     ]
    }
   ],
   "source": [
    "${Hisat2Path}hisat2 -p$Hisat2ThreadNumber -x$GenomeName -k 100 \\\n",
    "--no-spliced-alignment --no-softclip \\\n",
    "-U ${SRR1}_ND_RS_trimmed.fastq | $SamtoolsPath view -bSh > ${SRR1}.bam "
   ]
  },
  {
   "cell_type": "markdown",
   "id": "1a1e48dd-0723-4dd7-a5f0-1f17a8b0839d",
   "metadata": {},
   "source": [
    "Mapping to the reference genome (Sus11.1) using Hisat2 (RNA part)"
   ]
  },
  {
   "cell_type": "code",
   "execution_count": 67,
   "id": "3ae965f5-c86a-4bc7-9b6b-db033b148ec2",
   "metadata": {},
   "outputs": [
    {
     "name": "stdout",
     "output_type": "stream",
     "text": [
      "59486181 reads; of these:\n",
      "  59486181 (100.00%) were unpaired; of these:\n",
      "    41367129 (69.54%) aligned 0 times\n",
      "    9764274 (16.41%) aligned exactly 1 time\n",
      "    8354778 (14.04%) aligned >1 times\n",
      "30.46% overall alignment rate\n"
     ]
    }
   ],
   "source": [
    "${Hisat2Path}hisat2 -p$Hisat2ThreadNumber -x$GenomeName -k 100 --no-softclip --dta-cufflinks \\\n",
    "--known-splicesite-infile $SpliceSitePath \\\n",
    "--novel-splicesite-outfile ${SRR2}_novel_splice -U ${SRR2}_ND_trimmed.fastq | $SamtoolsPath view -bSh > ${SRR2}.bam"
   ]
  },
  {
   "cell_type": "markdown",
   "id": "52ec7fb1-f5ac-4b31-bd64-01fce61dac9a",
   "metadata": {},
   "source": [
    "Getting number of reads mapped"
   ]
  },
  {
   "cell_type": "code",
   "execution_count": 68,
   "id": "d4062e73-41ff-464f-a610-714b3a94d15a",
   "metadata": {},
   "outputs": [
    {
     "name": "stdout",
     "output_type": "stream",
     "text": [
      "49142986\n"
     ]
    }
   ],
   "source": [
    "$SamtoolsPath view -c -F 260 ${SRR1}.bam"
   ]
  },
  {
   "cell_type": "code",
   "execution_count": 69,
   "id": "cebf9beb-4049-4cd6-84d1-5c1a184f5c3f",
   "metadata": {},
   "outputs": [
    {
     "name": "stdout",
     "output_type": "stream",
     "text": [
      "18119052\n"
     ]
    }
   ],
   "source": [
    "$SamtoolsPath view -c -F 260 ${SRR2}.bam"
   ]
  },
  {
   "cell_type": "code",
   "execution_count": 3,
   "id": "e3316cfb-c58d-47e9-ad18-9e6d404ee847",
   "metadata": {},
   "outputs": [],
   "source": [
    "$SamtoolsPath view -Sh -F 4 ${SRR1}.bam | $SamtoolsPath view -Sbh | $BedtoolsPath/bamToBed -cigar -i > ${SRR1}_unfiltered.bed\n",
    "$SamtoolsPath view -Sh -F 4 ${SRR2}.bam | $SamtoolsPath view -Sbh | $BedtoolsPath/bamToBed -cigar -i > ${SRR2}_unfiltered.bed"
   ]
  },
  {
   "cell_type": "code",
   "execution_count": null,
   "id": "b3eaa832-5274-4387-b694-c80f7937b2b1",
   "metadata": {},
   "outputs": [],
   "source": [
    "python3 cnt_intersect.py ${SRR1}_unfiltered.bed ${SRR2}_unfiltered.bed unfiltered_intersected1.bed"
   ]
  },
  {
   "cell_type": "markdown",
   "id": "e0bbe974-9aee-4748-8b2a-e4e465c592b6",
   "metadata": {},
   "source": [
    "Applying filter to reads. Only unique mappings with at most 2 mismatches remain"
   ]
  },
  {
   "cell_type": "code",
   "execution_count": 70,
   "id": "c8e6084d-3f9d-4697-8cdb-4b71010acda0",
   "metadata": {},
   "outputs": [],
   "source": [
    "$SamtoolsPath view -Sh -F 4 ${SRR1}.bam | grep -E 'XM:i:[0-2]\\s.*NH:i:1$|^@' | \\\n",
    "$SamtoolsPath view -Sbh > ${SRR1}_filtered.bam"
   ]
  },
  {
   "cell_type": "code",
   "execution_count": 71,
   "id": "17b2d55a-0dce-4183-8dc5-186731b24294",
   "metadata": {},
   "outputs": [],
   "source": [
    "$SamtoolsPath view -Sh -F 4 ${SRR2}.bam | grep -E 'XM:i:[0-2]\\s.*NH:i:1$|^@' | \\\n",
    "$SamtoolsPath view -Sbh > ${SRR2}_filtered.bam"
   ]
  },
  {
   "cell_type": "markdown",
   "id": "bcf15c2d-384b-4df2-a85d-0a66dcb84de7",
   "metadata": {},
   "source": [
    "Counting filtered reads"
   ]
  },
  {
   "cell_type": "code",
   "execution_count": 72,
   "id": "7e42a841-9279-436d-b061-ecf551ba5631",
   "metadata": {},
   "outputs": [
    {
     "name": "stdout",
     "output_type": "stream",
     "text": [
      "37854974\n"
     ]
    }
   ],
   "source": [
    "$SamtoolsPath view -c -F 260 ${SRR1}_filtered.bam"
   ]
  },
  {
   "cell_type": "code",
   "execution_count": 73,
   "id": "771337ba-8ff7-4779-9693-1abebb673a0d",
   "metadata": {},
   "outputs": [
    {
     "name": "stdout",
     "output_type": "stream",
     "text": [
      "9764274\n"
     ]
    }
   ],
   "source": [
    "$SamtoolsPath view -c -F 260 ${SRR2}_filtered.bam"
   ]
  },
  {
   "cell_type": "markdown",
   "id": "fe52ad34-248d-4244-8362-0b1f2693ecf8",
   "metadata": {},
   "source": [
    "Converting to BED format"
   ]
  },
  {
   "cell_type": "code",
   "execution_count": 75,
   "id": "2bb861f3-bf6c-4bd9-ab00-481e3fd0ac13",
   "metadata": {},
   "outputs": [],
   "source": [
    "$SamtoolsPath view -Sh -F 4 ${SRR1}_filtered.bam | $SamtoolsPath view -Sbh | $BedtoolsPath/bamToBed -cigar -i > ${SRR1}.bed"
   ]
  },
  {
   "cell_type": "code",
   "execution_count": 76,
   "id": "e57b5f47-24e6-42fd-a278-f75fb0f4255f",
   "metadata": {},
   "outputs": [],
   "source": [
    "$SamtoolsPath view -Sh -F 4 ${SRR2}_filtered.bam | $SamtoolsPath view -Sbh | $BedtoolsPath/bamToBed -cigar -i > ${SRR2}.bed"
   ]
  },
  {
   "cell_type": "markdown",
   "id": "2799302d-4b45-49dd-9aab-3aebc34a543a",
   "metadata": {},
   "source": [
    "Intersecting BED files and forming contacts"
   ]
  },
  {
   "cell_type": "code",
   "execution_count": 82,
   "id": "790cccde-f7c1-4831-8846-0d69e2a0f889",
   "metadata": {},
   "outputs": [
    {
     "name": "stdout",
     "output_type": "stream",
     "text": [
      "import pandas as pd\n",
      "from sys import argv\n",
      "\n",
      "dna = pd.read_csv(argv[1], sep = \"\\t\", header = None)\n",
      "rna = pd.read_csv(argv[2], sep = \"\\t\", header = None)\n",
      "dna[3] = dna[3].str.split('.').str[1]\n",
      "rna[3] = rna[3].str.split('.').str[1]\n",
      "dna.set_index([3], inplace=True)\n",
      "rna.set_index([3], inplace=True)\n",
      "ids = list(set(dna.index) & set(rna.index))                  \n",
      "dna = dna.loc[ids,]\n",
      "rna = rna.loc[ids,]\n",
      "res = pd.DataFrame(index=range(len(ids)),\\\n",
      "columns=['id', 'rna_chr', 'rna_bgn', 'rna_end', 'rna_strand', 'rna_cigar',\\\n",
      "'dna_chr', 'dna_bgn', 'dna_end', 'dna_strand', 'dna_cigar'])\n",
      "for i, item in enumerate(ids):\n",
      "    res.at[i,'id'] = item\n",
      "    res.at[i,'rna_chr'] = rna.at[item,0]\n",
      "    res.at[i,'rna_bgn'] = rna.at[item,1]\n",
      "    res.at[i,'rna_end'] = rna.at[item,2]\n",
      "    res.at[i,'rna_strand'] = rna.at[item,5]\n",
      "    res.at[i,'rna_cigar'] = rna.at[item,6]\n",
      "    res.at[i,'dna_chr'] = dna.at[item,0]\n",
      "    res.at[i,'dna_bgn'] = dna.at[item,1]\n",
      "    res.at[i,'dna_end'] = dna.at[item,2]\n",
      "    res.at[i,'dna_strand'] = dna.at[item,5]\n",
      "    res.at[i,'dna_cigar'] = dna.at[item,6]\n",
      "res.to_csv(argv[3], sep='\\t', index=False, header=True)\n"
     ]
    }
   ],
   "source": [
    "cat cnt_intersect.py"
   ]
  },
  {
   "cell_type": "code",
   "execution_count": 77,
   "id": "6acb30cd-0f63-4a70-9735-73cfd401a155",
   "metadata": {},
   "outputs": [],
   "source": [
    "python3 cnt_intersect.py ${SRR1}.bed ${SRR2}.bed $ContactsOutput"
   ]
  },
  {
   "cell_type": "markdown",
   "id": "e51f29df-7847-4543-ab4c-9de58972f020",
   "metadata": {},
   "source": [
    "Counting contacts"
   ]
  },
  {
   "cell_type": "code",
   "execution_count": 78,
   "id": "9af6b9ac-1228-49cd-9bcf-2745c6b8076c",
   "metadata": {},
   "outputs": [
    {
     "name": "stdout",
     "output_type": "stream",
     "text": [
      "2768273 2rep_cnt.tsv\n"
     ]
    }
   ],
   "source": [
    "wc -l $ContactsOutput"
   ]
  },
  {
   "cell_type": "markdown",
   "id": "2d79c82a-d904-4c93-93f8-36f1fb2e06e6",
   "metadata": {},
   "source": [
    "CIGAR filtering: reads with a complete match ('digitsM' flag) are left intact, reads with only one mismatch ('digitsMdigitsNdigitsM' type) are cut to their longest match and other reads are dropped"
   ]
  },
  {
   "cell_type": "code",
   "execution_count": 16,
   "id": "ab2bb72d-ed21-44d6-b852-d9f051ce929c",
   "metadata": {},
   "outputs": [
    {
     "name": "stdout",
     "output_type": "stream",
     "text": [
      "import re\n",
      "from sys import argv\n",
      "\n",
      "\n",
      "f = open(argv[1], 'r')\n",
      "f1 = open(argv[2], 'w')\n",
      "linecnt = 0\n",
      "\n",
      "c1 = re.compile('\\d+M')\n",
      "c2 = re.compile('(\\d+)M(\\d+)N(\\d+)M')\n",
      "cnt1 = 0\n",
      "cnt2 = 0\n",
      "\n",
      "while True:\n",
      "    linecnt += 1\n",
      "    line = f.readline()\n",
      "    if not line:\n",
      "        break\n",
      "    llist = line.split()\n",
      "    tline = llist[6]\n",
      "    \n",
      "    if len(c1.findall(tline)) == 1:\n",
      "        cnt1 += 1\n",
      "        print(line, end='', file=f1)\n",
      "    elif len(c1.findall(tline)) == 2:\n",
      "        cnt2 += 1\n",
      "        l2 = c2.findall(tline)\n",
      "\n",
      "        if int(l2[0][0]) > int(l2[0][2]):\n",
      "            tmp = int(llist[1]) + int(l2[0][0])\n",
      "            llist[2] = str(tmp)\n",
      "            print('\\t'.join(llist), end='', file=f1)\n",
      "        else:\n",
      "            tmp = int(llist[2]) - int(l2[0][2])\n",
      "            llist[1] = str(tmp)\n",
      "            print('\\t'.join(llist), end='', file=f1)\n",
      "f.close()\n",
      "print(f'full match {cnt1}')\n",
      "print(f'central gap {cnt2}')\n",
      "\n"
     ]
    }
   ],
   "source": [
    "cat cigar_filter.py"
   ]
  },
  {
   "cell_type": "code",
   "execution_count": null,
   "id": "742dad5f-1ec9-46f4-931d-b566972b5329",
   "metadata": {},
   "outputs": [],
   "source": [
    "python3 cigar_filter.py ${SRR2}.bed ${SRR2}_filtered.bed"
   ]
  },
  {
   "cell_type": "markdown",
   "id": "6e72b9a4-1507-4bd5-84cf-7635cf796822",
   "metadata": {},
   "source": [
    "Intersecting contacts"
   ]
  },
  {
   "cell_type": "code",
   "execution_count": 21,
   "id": "4a93a43d-0d0d-4a5e-8f65-4f6358434bbf",
   "metadata": {},
   "outputs": [],
   "source": [
    "python3 cnt_intersect.py ${SRR1}.bed ${SRR2}_filtered.bed $CIGARIntersectionOutput"
   ]
  },
  {
   "cell_type": "markdown",
   "id": "ca007833-669e-44c2-b3ec-b92c58c76f93",
   "metadata": {},
   "source": [
    "Counting contacts"
   ]
  },
  {
   "cell_type": "code",
   "execution_count": 23,
   "id": "577216b9-85a0-4482-a3d6-49790190c5e2",
   "metadata": {},
   "outputs": [
    {
     "name": "stdout",
     "output_type": "stream",
     "text": [
      "2037345 4rep_cigar_out.tsv\n"
     ]
    }
   ],
   "source": [
    "wc -l $CIGARIntersectionOutput"
   ]
  },
  {
   "cell_type": "markdown",
   "id": "c4fa727f-4a06-46fd-a096-f99697e52793",
   "metadata": {},
   "source": [
    "Merging contacts from all replicas together"
   ]
  },
  {
   "cell_type": "code",
   "execution_count": 24,
   "id": "76747818-30d0-4985-85db-88f366f50c89",
   "metadata": {},
   "outputs": [],
   "source": [
    "cat *cigar*tsv| grep -v rna_bgn > merged_before_rna.tsv"
   ]
  },
  {
   "cell_type": "code",
   "execution_count": 109,
   "id": "f727eaf8-7a34-4809-b35f-820189943328",
   "metadata": {},
   "outputs": [
    {
     "name": "stdout",
     "output_type": "stream",
     "text": [
      "8955558 merged_before_rna.tsv\n"
     ]
    }
   ],
   "source": [
    "wc -l merged_before_rna.tsv"
   ]
  },
  {
   "cell_type": "markdown",
   "id": "b6b7b71b-1be9-4044-9430-300e85a1a5c5",
   "metadata": {},
   "source": [
    "A script to transform GTF file into genes markdown"
   ]
  },
  {
   "cell_type": "code",
   "execution_count": 26,
   "id": "e0a032ae-aec4-402d-810b-5bfcdabb8f1d",
   "metadata": {},
   "outputs": [
    {
     "name": "stdout",
     "output_type": "stream",
     "text": [
      "from sys import argv\n",
      "\n",
      "\n",
      "f = open(argv[1], 'r')\n",
      "f1 = open(argv[2], 'w+')\n",
      "linecnt = 0\n",
      "\n",
      "while True:\n",
      "    linecnt += 1  \n",
      "    line = f.readline()\n",
      "    if not line:\n",
      "        break\n",
      "    llist = line.split()\n",
      "    try:\n",
      "        if llist[2] == 'gene':\n",
      "            print(f'chr{llist[0]}\\t{llist[3]}\\t{llist[4]}\\t{llist[6]}\\t{llist[17][1:-2]}\\t{llist[13][1:-2]}\\t{int(llist[4])-int(llist[3])}', file=f1)\n",
      "    except:\n",
      "        continue\n",
      "f.close()\n",
      "f1.close()\n"
     ]
    }
   ],
   "source": [
    "cat genes_tidy.py"
   ]
  },
  {
   "cell_type": "markdown",
   "id": "b46b70c5-d4dc-4b64-9754-31e42fcb5ba7",
   "metadata": {},
   "source": [
    "Transforming:"
   ]
  },
  {
   "cell_type": "code",
   "execution_count": 27,
   "id": "de84a136-d622-41c4-9601-6ddbdcd4e24d",
   "metadata": {},
   "outputs": [],
   "source": [
    "python3 genes_tidy.py Sus_scrofa.Sscrofa11.1.108.gtf genes.tsv"
   ]
  },
  {
   "cell_type": "code",
   "execution_count": 29,
   "id": "b34f8315-987e-4852-9942-9fd1057a9438",
   "metadata": {},
   "outputs": [
    {
     "name": "stdout",
     "output_type": "stream",
     "text": [
      "17508 genes.tsv\n"
     ]
    }
   ],
   "source": [
    "wc -l genes.tsv"
   ]
  },
  {
   "cell_type": "markdown",
   "id": "deb15111-d13d-4644-b82d-6aa522872e23",
   "metadata": {},
   "source": [
    "RNA type distribution among the genes:"
   ]
  },
  {
   "cell_type": "code",
   "execution_count": 8,
   "id": "439b6ef1-f64d-4eaf-bf10-61451b38c15f",
   "metadata": {},
   "outputs": [
    {
     "name": "stdout",
     "output_type": "stream",
     "text": [
      "    367 miRNA\n",
      "     17 misc_RNA\n",
      "  15681 protein_coding\n",
      "      7 ribozyme\n",
      "     18 rRNA\n",
      "     11 scaRNA\n",
      "    318 snoRNA\n",
      "   1074 snRNA\n",
      "      3 TR_V_gene\n",
      "      3 vault_RNA\n",
      "      9 Y_RNA\n"
     ]
    }
   ],
   "source": [
    "cat genes.tsv | awk '{print $5}' | sort | uniq -c"
   ]
  },
  {
   "cell_type": "markdown",
   "id": "9f1eadd3-99f2-4709-829e-950edcf2a6b1",
   "metadata": {},
   "source": [
    "A script to annotate RNA-parts of contacts"
   ]
  },
  {
   "cell_type": "code",
   "execution_count": 13,
   "id": "6bfab0cf-c88f-416d-93c7-734d4aa2c7c1",
   "metadata": {},
   "outputs": [
    {
     "name": "stdout",
     "output_type": "stream",
     "text": [
      "# Creating temporary files\n",
      "t1=$(mktemp)\n",
      "t2=$(mktemp)\n",
      "\n",
      "# Contacts and genes paths\n",
      "ContactsFile='merged_before_rna.tsv'\n",
      "GenesFile='genes.tsv'\n",
      "\n",
      "# Intersection of contacts and genes, strands are stored in corresponding files; didn't find bedtools on HPC-2 so provided thast files\n",
      "bedtools intersect -a <(cat $ContactsFile| awk '{print $2, $3, $4}'  OFS='\\t') -b <(cat $GenesFile) -wb > intersected_genes.tsv\n",
      "bedtools intersect -a <(cat $ContactsFile| awk '{print $2, $3, $4, $5, $1}'  OFS='\\t') -b <(cat $GenesFile) -wa > intersected_contacts.tsv\n",
      "\n",
      "# Counting how many contacts intersected certain gene = gene score\n",
      "cat intersected_genes.tsv | awk '{print $9}' | sort | uniq -c > gene_score.csv\n",
      "\n",
      "# Adding score column to the intersection from the genes perspective\n",
      "join -1 9 -2 2 -o1.1,1.2,1.3,1.7,1.8,1.9,1.10,2.1 <(sort -k 9,9 intersected_genes.tsv) gene_score.csv > intersected_scored_genes.csv\n",
      "\n",
      "# Dividing by gene length\n",
      "cat intersected_scored_genes.csv | awk '{print $1,$2,$3,$4,$5,$6,$7,$8,$8/$7}' > intersected_scored_genes_divided.csv\n",
      "\n",
      "# Joining intersections based on chr-begin-end-strand concatenated column\n",
      "join -j1 -o1.2,1.3,1.4,1.5,1.6,1.7,1.10,2.6 <(<intersected_scored_genes_divided.csv awk '{print $1\"-\"$2\"-\"$3\"-\"$4\" \"$0}' | sort -k1,1 | uniq) <(<intersected_contacts.tsv awk '{print $1\"-\"$2\"-\"$3\"-\"$4\" \"$0}' | sort -k1,1 | uniq) > joined_annotation.csv\n",
      "\n",
      "# Voting for the most contacted gene: sorting by contact id then by gene score and filttering all annotations but the one with the highest score\n",
      "sort -k8,8 -k7nr,7 joined_annotation.csv | uniq -f7 > unique_annotation.csv\n",
      "\n",
      "# Adding leading zeroes; can be avoided by sorting stringwise, not numberwise\n",
      "# cat unique_annotation.csv | awk  '{ a=sprintf(\"%09d\",$8); print a, $0}' OFS='\\t' > unique_annotation2.csv\n",
      "# cat $ContactsFile | awk  '{ $1=sprintf(\"%09d\",$1); print $0}' OFS='\\t' | sort -k1n,1 > ${ContactsFile}2\n",
      "\n",
      "# Assigning annotation to the initial contacts\n",
      "cat unique_annotation.csv > $t1\n",
      "cat $ContactsFile | sort -k1,1 > $t2\n",
      "join -1 8 -2 1  -o2.2,2.3,2.4,2.5,2.6,2.7,2.8,2.9,2.10,2.11,1.5,1.6,1.7,1.8 $t1 $t2 > annotated_contacts.csv\n",
      "\n",
      "# Deleting temporary files\n",
      "rm -f $t1 $t2\n"
     ]
    }
   ],
   "source": [
    "cat annotation.sh"
   ]
  },
  {
   "cell_type": "code",
   "execution_count": 14,
   "id": "af15995e-e50c-4e0d-987b-509c16107a38",
   "metadata": {},
   "outputs": [],
   "source": [
    "./annotation.sh"
   ]
  },
  {
   "cell_type": "markdown",
   "id": "ee9fae02-417c-4931-be2a-70c48b63f877",
   "metadata": {},
   "source": [
    "Counting contacts"
   ]
  },
  {
   "cell_type": "code",
   "execution_count": 8,
   "id": "40995e1a-fe97-4031-a2dc-24bb15bc0d4e",
   "metadata": {},
   "outputs": [
    {
     "name": "stdout",
     "output_type": "stream",
     "text": [
      "5278072 annotated_contacts.csv\n"
     ]
    }
   ],
   "source": [
    "wc -l annotated_contacts.csv"
   ]
  },
  {
   "cell_type": "markdown",
   "id": "c132c1e5-3fd9-40d5-92b8-bcf02b37310f",
   "metadata": {},
   "source": [
    "RNA biotype distribution after annotation"
   ]
  },
  {
   "cell_type": "code",
   "execution_count": 9,
   "id": "d406eec9-3c53-40cd-8f66-2c177079057c",
   "metadata": {},
   "outputs": [
    {
     "name": "stdout",
     "output_type": "stream",
     "text": [
      "    116 miRNA\n",
      "      1 misc_RNA\n",
      "  14837 protein_coding\n",
      "      2 ribozyme\n",
      "      1 rRNA\n",
      "     10 scaRNA\n",
      "    166 snoRNA\n",
      "      8 snRNA\n",
      "      1 vault_RNA\n",
      "      1 Y_RNA\n"
     ]
    }
   ],
   "source": [
    "cat annotated_contacts.csv | sort -k12,12 |  awk '{print $11,$12}' | uniq -f1 | awk '{print $1}' | sort | uniq -c"
   ]
  },
  {
   "cell_type": "markdown",
   "id": "776cf000-5dcc-4fa4-b5a5-d1d04d3a0ebe",
   "metadata": {},
   "source": [
    "Contacts biotype distribution after annotation"
   ]
  },
  {
   "cell_type": "code",
   "execution_count": 10,
   "id": "147c4931-ca9d-4038-88b6-8a754645abc3",
   "metadata": {},
   "outputs": [
    {
     "name": "stdout",
     "output_type": "stream",
     "text": [
      "   2138 miRNA\n",
      "     13 misc_RNA\n",
      "5222517 protein_coding\n",
      "   4487 ribozyme\n",
      "      6 rRNA\n",
      "   2452 scaRNA\n",
      "  31919 snoRNA\n",
      "  12764 snRNA\n",
      "    131 vault_RNA\n",
      "   1645 Y_RNA\n"
     ]
    }
   ],
   "source": [
    "cat annotated_contacts.csv  | awk '{print $11}' | sort | uniq -c"
   ]
  },
  {
   "cell_type": "markdown",
   "id": "abb33201-4d56-4122-ac34-917ff46ba63b",
   "metadata": {},
   "source": [
    "Getting RNAs with the most contacts"
   ]
  },
  {
   "cell_type": "code",
   "execution_count": 11,
   "id": "fb9ef224-0f3b-4ed4-97f5-5ac9dff6a3a0",
   "metadata": {},
   "outputs": [],
   "source": [
    "cat annotated_contacts.csv | sort -k12,12 |  awk '{print $11,$12}' | uniq -c  > rna_cnt_number1.csv"
   ]
  },
  {
   "cell_type": "code",
   "execution_count": 12,
   "id": "18d6e28b-69cf-4b8f-98ba-7166dc82bdee",
   "metadata": {},
   "outputs": [
    {
     "name": "stdout",
     "output_type": "stream",
     "text": [
      " 102029 protein_coding TSEN2\n",
      "  41933 protein_coding NEB\n",
      "  37658 protein_coding MBNL1\n",
      "  35166 protein_coding ZBTB16\n",
      "  24259 protein_coding LRRC43\n",
      "  20425 protein_coding MYO18B\n",
      "  20265 protein_coding AUTS2\n",
      "  19497 protein_coding CACNA2D1\n",
      "  17672 protein_coding TRDN\n",
      "  17436 protein_coding TEX14\n",
      "sort: write failed: 'standard output': Broken pipe\n",
      "sort: write error\n"
     ]
    }
   ],
   "source": [
    "cat rna_cnt_number1.csv | sort -k1nr,1n | head -n10 "
   ]
  },
  {
   "cell_type": "markdown",
   "id": "ef9839b4-456b-4821-9a20-bfda814d91d6",
   "metadata": {},
   "source": [
    "Attempting to prepare data for normalization"
   ]
  },
  {
   "cell_type": "code",
   "execution_count": 282,
   "id": "f8d9c441-1d8d-4368-b6e1-d469ee07dd2e",
   "metadata": {},
   "outputs": [],
   "source": [
    "grep protein_coding contacts_rna_annotated1.csv > pcrna.csv"
   ]
  },
  {
   "cell_type": "code",
   "execution_count": 288,
   "id": "2bcfa8dd-7aee-4870-8a62-0ccc443e5d2b",
   "metadata": {},
   "outputs": [],
   "source": [
    "grep -v protein_coding contacts_rna_annotated1.csv > npcrna.csv"
   ]
  },
  {
   "cell_type": "code",
   "execution_count": 290,
   "id": "b971f2be-6e74-4e5d-bb7b-ae5802a8aacf",
   "metadata": {},
   "outputs": [
    {
     "name": "stdout",
     "output_type": "stream",
     "text": [
      "chr6 71971138 71971157 + 19M chr13 124590001 124590020 - 19M snRNA U5 19686 100002016\n",
      "chr14 40286509 40286528 - 19M chr6 100028477 100028496 + 19M snRNA U4 8808 100004528\n",
      "chr1 236380016 236380035 - 19M chr18 11678219 11678239 + 20M ribozyme RNase_MRP 1300 100031442\n",
      "chr14 40286508 40286527 - 19M chr11 13656391 13656410 - 19M snRNA U4 8808 100036647\n",
      "chr1 163335027 163335046 + 19M chr14 48515712 48515731 - 19M snRNA U5 19686 100043587\n",
      "chr14 40286550 40286569 - 19M chr13 199193288 199193307 - 19M snRNA U4 8808 100059528\n",
      "chr14 40286550 40286569 - 19M chr6 54532506 54532526 + 20M snRNA U4 8808 100070833\n",
      "chr14 40286550 40286569 - 19M chr6 54532506 54532526 + 20M snRNA U4 8808 100070833\n",
      "chr6 54567220 54567239 + 19M chr18 16638200 16638219 + 19M snoRNA SNORD33 1228 100084671\n",
      "chr6 71971138 71971157 + 19M chr1 118912052 118912071 + 19M snRNA U5 19686 100087314\n"
     ]
    }
   ],
   "source": [
    "head npcrna.csv"
   ]
  },
  {
   "cell_type": "code",
   "execution_count": 310,
   "id": "2ae38c05-6b2b-4381-b870-631d5861e97d",
   "metadata": {},
   "outputs": [],
   "source": [
    "cat pcrna.csv | awk '{print $12}' | sort | uniq -c | sort -k1nr,1 | tail -n+51 | head -n -1000 > fpcrna"
   ]
  },
  {
   "cell_type": "code",
   "execution_count": 311,
   "id": "cd6dfc70-2ad9-4adb-944e-3cb8e88bc11c",
   "metadata": {},
   "outputs": [
    {
     "name": "stdout",
     "output_type": "stream",
     "text": [
      "13911 fpcrna\n"
     ]
    }
   ],
   "source": [
    "wc -l fpcrna"
   ]
  },
  {
   "cell_type": "code",
   "execution_count": 314,
   "id": "7e3f75ba-a838-4887-a542-ca0f30aa3642",
   "metadata": {},
   "outputs": [],
   "source": [
    "join -1 12 -2 2 <(cat contacts_rna_annotated1.csv | sort -k12,12) <(cat fpcrna | sort -k2,2) > fpcrna_contacts.csv"
   ]
  },
  {
   "cell_type": "code",
   "execution_count": 315,
   "id": "89090557-2052-436e-8dd5-10c1b727d3ff",
   "metadata": {},
   "outputs": [
    {
     "name": "stdout",
     "output_type": "stream",
     "text": [
      "A1CF chr14 98909017 98909036 + 19M chr14 98908799 98908818 - 19M protein_coding 54 245788663 54\n",
      "A1CF chr14 98910836 98910855 - 19M chr14 98910543 98910562 - 19M protein_coding 54 146253771 54\n",
      "A1CF chr14 98911368 98911387 + 19M chr16 73406426 73406445 + 19M protein_coding 54 232813212 54\n",
      "A1CF chr14 98911368 98911387 + 19M chr16 73406426 73406445 + 19M protein_coding 54 232813212 54\n",
      "A1CF chr14 98913970 98913990 + 20M chr14 98914095 98914115 + 20M protein_coding 54 145406469 54\n",
      "A1CF chr14 98913970 98913990 + 20M chr14 98914095 98914115 + 20M protein_coding 54 145406469 54\n",
      "A1CF chr14 98919267 98919286 - 19M chr14 49314303 49314323 + 20M protein_coding 54 95062353 54\n",
      "A1CF chr14 98919352 98919371 - 19M chr14 99673719 99673738 + 19M protein_coding 54 161146852 54\n",
      "A1CF chr14 98920675 98920694 - 19M chr14 98920575 98920595 - 20M protein_coding 54 144115271 54\n",
      "A1CF chr14 98929193 98929212 + 19M chr14 98929419 98929439 + 20M protein_coding 54 8849515 54\n"
     ]
    }
   ],
   "source": [
    "head fpcrna_contacts.csv"
   ]
  },
  {
   "cell_type": "code",
   "execution_count": 321,
   "id": "5ba9b601-33fd-4ec6-b024-c7d8e62bfe1f",
   "metadata": {},
   "outputs": [],
   "source": [
    "cat fpcrna_contacts.csv | awk '{print $2,$3,$4,$5,$6,$7,$8,$9,$10,$11,$12,$1,$13,$14,$15}' OFS='\\t' > fpcrna_contacts1.csv"
   ]
  },
  {
   "cell_type": "code",
   "execution_count": 322,
   "id": "5c6aaa8a-790c-47fd-966b-2edda7a201fe",
   "metadata": {},
   "outputs": [
    {
     "name": "stdout",
     "output_type": "stream",
     "text": [
      "chr14\t98909017\t98909036\t+\t19M\tchr14\t98908799\t98908818\t-\t19M\tprotein_coding\tA1CF\t54\t245788663\t54\n",
      "chr14\t98910836\t98910855\t-\t19M\tchr14\t98910543\t98910562\t-\t19M\tprotein_coding\tA1CF\t54\t146253771\t54\n",
      "chr14\t98911368\t98911387\t+\t19M\tchr16\t73406426\t73406445\t+\t19M\tprotein_coding\tA1CF\t54\t232813212\t54\n",
      "chr14\t98911368\t98911387\t+\t19M\tchr16\t73406426\t73406445\t+\t19M\tprotein_coding\tA1CF\t54\t232813212\t54\n",
      "chr14\t98913970\t98913990\t+\t20M\tchr14\t98914095\t98914115\t+\t20M\tprotein_coding\tA1CF\t54\t145406469\t54\n",
      "chr14\t98913970\t98913990\t+\t20M\tchr14\t98914095\t98914115\t+\t20M\tprotein_coding\tA1CF\t54\t145406469\t54\n",
      "chr14\t98919267\t98919286\t-\t19M\tchr14\t49314303\t49314323\t+\t20M\tprotein_coding\tA1CF\t54\t95062353\t54\n",
      "chr14\t98919352\t98919371\t-\t19M\tchr14\t99673719\t99673738\t+\t19M\tprotein_coding\tA1CF\t54\t161146852\t54\n",
      "chr14\t98920675\t98920694\t-\t19M\tchr14\t98920575\t98920595\t-\t20M\tprotein_coding\tA1CF\t54\t144115271\t54\n",
      "chr14\t98929193\t98929212\t+\t19M\tchr14\t98929419\t98929439\t+\t20M\tprotein_coding\tA1CF\t54\t8849515\t54\n"
     ]
    }
   ],
   "source": [
    "head fpcrna_contacts1.csv"
   ]
  },
  {
   "cell_type": "code",
   "execution_count": 318,
   "id": "e6ce2a9d-1e53-454f-823a-0d1b4a4b62a3",
   "metadata": {},
   "outputs": [
    {
     "name": "stdout",
     "output_type": "stream",
     "text": [
      "chr6 71971138 71971157 + 19M chr13 124590001 124590020 - 19M snRNA U5 19686 100002016\n",
      "chr14 40286509 40286528 - 19M chr6 100028477 100028496 + 19M snRNA U4 8808 100004528\n",
      "chr1 236380016 236380035 - 19M chr18 11678219 11678239 + 20M ribozyme RNase_MRP 1300 100031442\n",
      "chr14 40286508 40286527 - 19M chr11 13656391 13656410 - 19M snRNA U4 8808 100036647\n",
      "chr1 163335027 163335046 + 19M chr14 48515712 48515731 - 19M snRNA U5 19686 100043587\n",
      "chr14 40286550 40286569 - 19M chr13 199193288 199193307 - 19M snRNA U4 8808 100059528\n",
      "chr14 40286550 40286569 - 19M chr6 54532506 54532526 + 20M snRNA U4 8808 100070833\n",
      "chr14 40286550 40286569 - 19M chr6 54532506 54532526 + 20M snRNA U4 8808 100070833\n",
      "chr6 54567220 54567239 + 19M chr18 16638200 16638219 + 19M snoRNA SNORD33 1228 100084671\n",
      "chr6 71971138 71971157 + 19M chr1 118912052 118912071 + 19M snRNA U5 19686 100087314\n"
     ]
    }
   ],
   "source": [
    "head npcrna.csv"
   ]
  },
  {
   "cell_type": "code",
   "execution_count": 319,
   "id": "24521b36-a70a-4848-b084-9b2fb6e218ca",
   "metadata": {},
   "outputs": [],
   "source": [
    "cat npcrna.csv | awk '{print $1,$2,$3,$4,$5,$6,$7,$8,$9,$10,$11,$12,$13,$14}' OFS='\\t' > npcrna1.tsv"
   ]
  },
  {
   "cell_type": "code",
   "execution_count": 320,
   "id": "b16b4fed-3e17-49fa-8822-6564304d87bf",
   "metadata": {},
   "outputs": [
    {
     "name": "stdout",
     "output_type": "stream",
     "text": [
      "chr6\t71971138\t71971157\t+\t19M\tchr13\t124590001\t124590020\t-\t19M\tsnRNA\tU5\t19686\t100002016\n",
      "chr14\t40286509\t40286528\t-\t19M\tchr6\t100028477\t100028496\t+\t19M\tsnRNA\tU4\t8808\t100004528\n",
      "chr1\t236380016\t236380035\t-\t19M\tchr18\t11678219\t11678239\t+\t20M\tribozyme\tRNase_MRP\t1300\t100031442\n",
      "chr14\t40286508\t40286527\t-\t19M\tchr11\t13656391\t13656410\t-\t19M\tsnRNA\tU4\t8808\t100036647\n",
      "chr1\t163335027\t163335046\t+\t19M\tchr14\t48515712\t48515731\t-\t19M\tsnRNA\tU5\t19686\t100043587\n",
      "chr14\t40286550\t40286569\t-\t19M\tchr13\t199193288\t199193307\t-\t19M\tsnRNA\tU4\t8808\t100059528\n",
      "chr14\t40286550\t40286569\t-\t19M\tchr6\t54532506\t54532526\t+\t20M\tsnRNA\tU4\t8808\t100070833\n",
      "chr14\t40286550\t40286569\t-\t19M\tchr6\t54532506\t54532526\t+\t20M\tsnRNA\tU4\t8808\t100070833\n",
      "chr6\t54567220\t54567239\t+\t19M\tchr18\t16638200\t16638219\t+\t19M\tsnoRNA\tSNORD33\t1228\t100084671\n",
      "chr6\t71971138\t71971157\t+\t19M\tchr1\t118912052\t118912071\t+\t19M\tsnRNA\tU5\t19686\t100087314\n"
     ]
    }
   ],
   "source": [
    "head npcrna1.tsv"
   ]
  },
  {
   "cell_type": "code",
   "execution_count": 323,
   "id": "c21ce5d5-34e2-47e4-bf78-94e24dc114c7",
   "metadata": {},
   "outputs": [],
   "source": [
    "cat fpcrna_contacts1.csv npcrna1.tsv > filtered_mrna_contacts.tsv"
   ]
  }
 ],
 "metadata": {
  "kernelspec": {
   "display_name": "Bash",
   "language": "bash",
   "name": "bash"
  },
  "language_info": {
   "codemirror_mode": "shell",
   "file_extension": ".sh",
   "mimetype": "text/x-sh",
   "name": "bash"
  }
 },
 "nbformat": 4,
 "nbformat_minor": 5
}
